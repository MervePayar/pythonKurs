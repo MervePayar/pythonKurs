{
 "cells": [
  {
   "cell_type": "code",
   "execution_count": 6,
   "metadata": {},
   "outputs": [
    {
     "name": "stdout",
     "output_type": "stream",
     "text": [
      "mervepayar\n"
     ]
    }
   ],
   "source": [
    "if 3 > 1 : \n",
    "    #pythonda boşluklar önemlidir\n",
    "    print(\"mervepayar\")\n"
   ]
  },
  {
   "cell_type": "code",
   "execution_count": 14,
   "metadata": {},
   "outputs": [
    {
     "name": "stdout",
     "output_type": "stream",
     "text": [
      "x yden büyük değil\n"
     ]
    }
   ],
   "source": [
    "x = 3\n",
    "y = 4\n",
    "if x > y :\n",
    "    print(\"x yden büyük\")\n",
    "elif y>x:\n",
    "    print(\"x yden büyük değil\")\n",
    "else : #koşulların hiçbiri tutmuyorsa en son else yazılır\n",
    "    print(\"x ve y birbirine eşit\")"
   ]
  },
  {
   "cell_type": "code",
   "execution_count": 18,
   "metadata": {},
   "outputs": [
    {
     "name": "stdout",
     "output_type": "stream",
     "text": [
      "süper kahraman seçiniz : Batman\n"
     ]
    }
   ],
   "source": [
    "kahramanım = input(\"süper kahraman seçiniz : \")"
   ]
  },
  {
   "cell_type": "code",
   "execution_count": 19,
   "metadata": {},
   "outputs": [
    {
     "name": "stdout",
     "output_type": "stream",
     "text": [
      "batmani seçtiniz\n"
     ]
    }
   ],
   "source": [
    "if kahramanım ==\"Batman\":\n",
    "    print(\"batmani seçtiniz\")\n",
    "elif kahramanım ==\"superman\":\n",
    "    print(\"keşke batmani seçseydiniz\")\n",
    "elif kahramanım == \"ironman\":\n",
    "    print(\"ironman kim?\")\n",
    "else:\n",
    "    print(\"bu kim bilmiyoruz\")"
   ]
  },
  {
   "cell_type": "code",
   "execution_count": 20,
   "metadata": {},
   "outputs": [],
   "source": [
    "a = 10\n",
    "b = 20\n",
    "c = 30 "
   ]
  },
  {
   "cell_type": "code",
   "execution_count": 21,
   "metadata": {},
   "outputs": [
    {
     "name": "stdout",
     "output_type": "stream",
     "text": [
      "a b den küçük ve b de c den küçük\n"
     ]
    }
   ],
   "source": [
    "if a > b and b > c :\n",
    "    print(\"a b den büyük, b de cden büyük\")\n",
    "elif a < b and b < c :\n",
    "    print(\"a b den küçük ve b de c den küçük\")\n",
    "else:\n",
    "    print(\"koşullar sağlanmadı\")"
   ]
  },
  {
   "cell_type": "code",
   "execution_count": 35,
   "metadata": {},
   "outputs": [
    {
     "name": "stdout",
     "output_type": "stream",
     "text": [
      "11\n"
     ]
    }
   ],
   "source": [
    "#en küçük sayıyı bulma\n",
    "\n",
    "a = [18,15,22,25,11,29,31]\n",
    "n = len(a)\n",
    "tmp = a[0]\n",
    "for e in a:\n",
    "    if(e < tmp):\n",
    "        tmp = e\n",
    "print(tmp)"
   ]
  },
  {
   "cell_type": "code",
   "execution_count": 29,
   "metadata": {},
   "outputs": [
    {
     "name": "stdout",
     "output_type": "stream",
     "text": [
      "varmış\n"
     ]
    }
   ],
   "source": [
    "benimstring = \"merve payar\"\n",
    "\n",
    "if \"merve\" in benimstring:\n",
    "    print(\"varmış\")\n",
    "else:\n",
    "    print(\"yokmuş\")"
   ]
  },
  {
   "cell_type": "code",
   "execution_count": 30,
   "metadata": {},
   "outputs": [],
   "source": [
    "sozluk = {\"muz\":100,\"elma\":150,\"karpuz\":500}"
   ]
  },
  {
   "cell_type": "code",
   "execution_count": 32,
   "metadata": {},
   "outputs": [
    {
     "data": {
      "text/plain": [
       "dict_keys(['muz', 'elma', 'karpuz'])"
      ]
     },
     "execution_count": 32,
     "metadata": {},
     "output_type": "execute_result"
    }
   ],
   "source": [
    "sozluk.keys()"
   ]
  },
  {
   "cell_type": "code",
   "execution_count": 33,
   "metadata": {},
   "outputs": [
    {
     "name": "stdout",
     "output_type": "stream",
     "text": [
      "varmış\n"
     ]
    }
   ],
   "source": [
    "if \"muz\" in sozluk.keys():\n",
    "    print(\"varmış\")"
   ]
  },
  {
   "cell_type": "code",
   "execution_count": 34,
   "metadata": {},
   "outputs": [
    {
     "name": "stdout",
     "output_type": "stream",
     "text": [
      "evet\n"
     ]
    }
   ],
   "source": [
    "if 500 in sozluk.values():\n",
    "    print(\"evet\")"
   ]
  },
  {
   "cell_type": "code",
   "execution_count": null,
   "metadata": {},
   "outputs": [],
   "source": []
  }
 ],
 "metadata": {
  "kernelspec": {
   "display_name": "Python 3",
   "language": "python",
   "name": "python3"
  },
  "language_info": {
   "codemirror_mode": {
    "name": "ipython",
    "version": 3
   },
   "file_extension": ".py",
   "mimetype": "text/x-python",
   "name": "python",
   "nbconvert_exporter": "python",
   "pygments_lexer": "ipython3",
   "version": "3.8.5"
  }
 },
 "nbformat": 4,
 "nbformat_minor": 4
}
