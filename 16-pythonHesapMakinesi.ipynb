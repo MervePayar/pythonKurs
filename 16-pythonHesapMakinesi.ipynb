{
 "cells": [
  {
   "cell_type": "markdown",
   "metadata": {},
   "source": [
    "# hesap makinesi"
   ]
  },
  {
   "cell_type": "code",
   "execution_count": 1,
   "metadata": {},
   "outputs": [
    {
     "name": "stdout",
     "output_type": "stream",
     "text": [
      "ilk sayıyı giriniz10\n",
      "ikinci sayıyı giriniz20\n",
      "isleminizi seciniz+\n"
     ]
    }
   ],
   "source": [
    "a = input(\"ilk sayıyı giriniz  \")\n",
    "b = input(\"ikinci sayıyı giriniz  \")\n",
    "islem = input(\"isleminizi seciniz  \")\n",
    "\n"
   ]
  },
  {
   "cell_type": "code",
   "execution_count": 12,
   "metadata": {},
   "outputs": [
    {
     "name": "stdout",
     "output_type": "stream",
     "text": [
      "ilk sayıyı giriniz  10\n",
      "ikinci sayıyı giriniz  20\n",
      "isleminizi seciniz  +\n"
     ]
    },
    {
     "data": {
      "text/plain": [
       "'10 + 20 = 30'"
      ]
     },
     "execution_count": 12,
     "metadata": {},
     "output_type": "execute_result"
    }
   ],
   "source": [
    "def hesapla(a,b,islem):\n",
    "    if islem==\"+\":\n",
    "        return(str(a)+ \" + \"+str(b)+\" = \" + str(a+b))\n",
    "    elif islem ==\"-\":\n",
    "        return(str(a)+ \" - \"+str(b)+\" = \" + str(a-b))\n",
    "a = int(input(\"ilk sayıyı giriniz  \"))\n",
    "b = int(input(\"ikinci sayıyı giriniz  \"))\n",
    "islem = input(\"isleminizi seciniz  \")\n",
    "hesapla(a,b,islem)"
   ]
  },
  {
   "cell_type": "code",
   "execution_count": null,
   "metadata": {},
   "outputs": [],
   "source": []
  },
  {
   "cell_type": "code",
   "execution_count": null,
   "metadata": {},
   "outputs": [],
   "source": []
  }
 ],
 "metadata": {
  "kernelspec": {
   "display_name": "Python 3",
   "language": "python",
   "name": "python3"
  },
  "language_info": {
   "codemirror_mode": {
    "name": "ipython",
    "version": 3
   },
   "file_extension": ".py",
   "mimetype": "text/x-python",
   "name": "python",
   "nbconvert_exporter": "python",
   "pygments_lexer": "ipython3",
   "version": "3.8.5"
  }
 },
 "nbformat": 4,
 "nbformat_minor": 4
}
