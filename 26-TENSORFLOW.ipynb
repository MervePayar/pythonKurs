{
 "cells": [
  {
   "cell_type": "code",
   "execution_count": 1,
   "metadata": {},
   "outputs": [],
   "source": [
    "#yapay nöron ==>> perceptron"
   ]
  },
  {
   "cell_type": "code",
   "execution_count": 2,
   "metadata": {},
   "outputs": [],
   "source": [
    "#input1 + input2 +bias -> output"
   ]
  },
  {
   "cell_type": "markdown",
   "metadata": {},
   "source": [
    "## activation functions "
   ]
  },
  {
   "cell_type": "code",
   "execution_count": 3,
   "metadata": {},
   "outputs": [],
   "source": [
    " ## sigmoid fonksiyon genelde sınıflandırmalarda kullanılır. 0-1 arasında değer alır\n",
    "    ## sonucunda --> 0.80 ihtimalle bu fotoğraf kedidir gibi bir veri döndürür"
   ]
  },
  {
   "cell_type": "code",
   "execution_count": 4,
   "metadata": {},
   "outputs": [],
   "source": [
    "## tanh fonksiyonu genelde sınıflandırma için kullanılır, -1 ile 1 arasında değer alır\n"
   ]
  },
  {
   "cell_type": "code",
   "execution_count": 5,
   "metadata": {},
   "outputs": [],
   "source": [
    "## reLU 0 ile sonsuz arasında değer alır.\n",
    "# derin öğrenmede sık kullanılır"
   ]
  },
  {
   "cell_type": "code",
   "execution_count": 6,
   "metadata": {},
   "outputs": [],
   "source": [
    "## linear fonksiyonlar\n",
    "## nonlinear olmaması sebebiyle modellerde sorunlara yol açabilir. \n",
    "#f(x) = X "
   ]
  },
  {
   "cell_type": "markdown",
   "metadata": {},
   "source": [
    "## Regression Nedir ?? "
   ]
  },
  {
   "cell_type": "code",
   "execution_count": 7,
   "metadata": {},
   "outputs": [],
   "source": [
    "#toplam veri setindeki ortalamaya yakın olma eğilimi "
   ]
  },
  {
   "cell_type": "code",
   "execution_count": 8,
   "metadata": {},
   "outputs": [],
   "source": [
    "#cost funct. -> gerçek veriden ne kadar uzaktayız onu söyler"
   ]
  },
  {
   "cell_type": "code",
   "execution_count": 9,
   "metadata": {},
   "outputs": [],
   "source": [
    "#dradient descent -> bir fonksiyonunun minimumunu bulmak için kullandığımız optimizasyon fonksyionu \n",
    "# maliyet fonksiyonunu minimize etmek için kullanabiliriz"
   ]
  },
  {
   "cell_type": "code",
   "execution_count": 10,
   "metadata": {},
   "outputs": [],
   "source": [
    "#eğriden aşağı doğru inişte, aldığımız her noktanın eğimi, aslında learning rate'tir\n",
    "# minimumu bulmaya çalışırken, çok fazla nokta için yapacak olursak, çok zaman alır, \n",
    "# step sayısı az olursa, minimumu kaçırabilir. o yüzden, bunu da optimize etmemiz gerekebilir"
   ]
  },
  {
   "cell_type": "code",
   "execution_count": 11,
   "metadata": {},
   "outputs": [],
   "source": [
    "import numpy as np\n",
    "import pandas as pd"
   ]
  },
  {
   "cell_type": "code",
   "execution_count": 12,
   "metadata": {},
   "outputs": [],
   "source": [
    "df = pd.read_excel(\"bisiklet_fiyatlari.xlsx\")"
   ]
  },
  {
   "cell_type": "code",
   "execution_count": 13,
   "metadata": {},
   "outputs": [
    {
     "data": {
      "text/html": [
       "<div>\n",
       "<style scoped>\n",
       "    .dataframe tbody tr th:only-of-type {\n",
       "        vertical-align: middle;\n",
       "    }\n",
       "\n",
       "    .dataframe tbody tr th {\n",
       "        vertical-align: top;\n",
       "    }\n",
       "\n",
       "    .dataframe thead th {\n",
       "        text-align: right;\n",
       "    }\n",
       "</style>\n",
       "<table border=\"1\" class=\"dataframe\">\n",
       "  <thead>\n",
       "    <tr style=\"text-align: right;\">\n",
       "      <th></th>\n",
       "      <th>Fiyat</th>\n",
       "      <th>BisikletOzellik1</th>\n",
       "      <th>BisikletOzellik2</th>\n",
       "    </tr>\n",
       "  </thead>\n",
       "  <tbody>\n",
       "    <tr>\n",
       "      <th>0</th>\n",
       "      <td>807.673876</td>\n",
       "      <td>1749.628226</td>\n",
       "      <td>1749.590668</td>\n",
       "    </tr>\n",
       "    <tr>\n",
       "      <th>1</th>\n",
       "      <td>959.227520</td>\n",
       "      <td>1748.007826</td>\n",
       "      <td>1751.824206</td>\n",
       "    </tr>\n",
       "    <tr>\n",
       "      <th>2</th>\n",
       "      <td>718.020033</td>\n",
       "      <td>1750.122967</td>\n",
       "      <td>1747.977026</td>\n",
       "    </tr>\n",
       "    <tr>\n",
       "      <th>3</th>\n",
       "      <td>945.668885</td>\n",
       "      <td>1749.916440</td>\n",
       "      <td>1750.771646</td>\n",
       "    </tr>\n",
       "    <tr>\n",
       "      <th>4</th>\n",
       "      <td>955.542968</td>\n",
       "      <td>1750.780519</td>\n",
       "      <td>1750.592430</td>\n",
       "    </tr>\n",
       "    <tr>\n",
       "      <th>...</th>\n",
       "      <td>...</td>\n",
       "      <td>...</td>\n",
       "      <td>...</td>\n",
       "    </tr>\n",
       "    <tr>\n",
       "      <th>995</th>\n",
       "      <td>833.920637</td>\n",
       "      <td>1750.033229</td>\n",
       "      <td>1749.427281</td>\n",
       "    </tr>\n",
       "    <tr>\n",
       "      <th>996</th>\n",
       "      <td>800.298076</td>\n",
       "      <td>1747.996913</td>\n",
       "      <td>1750.035046</td>\n",
       "    </tr>\n",
       "    <tr>\n",
       "      <th>997</th>\n",
       "      <td>799.261737</td>\n",
       "      <td>1752.540381</td>\n",
       "      <td>1747.983310</td>\n",
       "    </tr>\n",
       "    <tr>\n",
       "      <th>998</th>\n",
       "      <td>705.802257</td>\n",
       "      <td>1751.349290</td>\n",
       "      <td>1747.484989</td>\n",
       "    </tr>\n",
       "    <tr>\n",
       "      <th>999</th>\n",
       "      <td>1048.892414</td>\n",
       "      <td>1748.656426</td>\n",
       "      <td>1752.539962</td>\n",
       "    </tr>\n",
       "  </tbody>\n",
       "</table>\n",
       "<p>1000 rows × 3 columns</p>\n",
       "</div>"
      ],
      "text/plain": [
       "           Fiyat  BisikletOzellik1  BisikletOzellik2\n",
       "0     807.673876       1749.628226       1749.590668\n",
       "1     959.227520       1748.007826       1751.824206\n",
       "2     718.020033       1750.122967       1747.977026\n",
       "3     945.668885       1749.916440       1750.771646\n",
       "4     955.542968       1750.780519       1750.592430\n",
       "..           ...               ...               ...\n",
       "995   833.920637       1750.033229       1749.427281\n",
       "996   800.298076       1747.996913       1750.035046\n",
       "997   799.261737       1752.540381       1747.983310\n",
       "998   705.802257       1751.349290       1747.484989\n",
       "999  1048.892414       1748.656426       1752.539962\n",
       "\n",
       "[1000 rows x 3 columns]"
      ]
     },
     "execution_count": 13,
     "metadata": {},
     "output_type": "execute_result"
    }
   ],
   "source": [
    "df"
   ]
  },
  {
   "cell_type": "code",
   "execution_count": 14,
   "metadata": {
    "collapsed": true
   },
   "outputs": [
    {
     "name": "stdout",
     "output_type": "stream",
     "text": [
      "Requirement already satisfied: tensorflow in c:\\users\\mervep\\anaconda3\\lib\\site-packages (2.9.1)\n",
      "Requirement already satisfied: tensorflow-estimator<2.10.0,>=2.9.0rc0 in c:\\users\\mervep\\anaconda3\\lib\\site-packages (from tensorflow) (2.9.0)\n",
      "Requirement already satisfied: gast<=0.4.0,>=0.2.1 in c:\\users\\mervep\\anaconda3\\lib\\site-packages (from tensorflow) (0.4.0)\n",
      "Requirement already satisfied: google-pasta>=0.1.1 in c:\\users\\mervep\\anaconda3\\lib\\site-packages (from tensorflow) (0.2.0)\n",
      "Requirement already satisfied: keras-preprocessing>=1.1.1 in c:\\users\\mervep\\anaconda3\\lib\\site-packages (from tensorflow) (1.1.2)\n",
      "Requirement already satisfied: numpy>=1.20 in c:\\users\\mervep\\anaconda3\\lib\\site-packages (from tensorflow) (1.22.4)\n",
      "Requirement already satisfied: tensorboard<2.10,>=2.9 in c:\\users\\mervep\\anaconda3\\lib\\site-packages (from tensorflow) (2.9.0)\n",
      "Requirement already satisfied: astunparse>=1.6.0 in c:\\users\\mervep\\anaconda3\\lib\\site-packages (from tensorflow) (1.6.3)\n",
      "Requirement already satisfied: absl-py>=1.0.0 in c:\\users\\mervep\\anaconda3\\lib\\site-packages (from tensorflow) (1.1.0)\n",
      "Requirement already satisfied: tensorflow-io-gcs-filesystem>=0.23.1 in c:\\users\\mervep\\anaconda3\\lib\\site-packages (from tensorflow) (0.26.0)\n",
      "Requirement already satisfied: libclang>=13.0.0 in c:\\users\\mervep\\anaconda3\\lib\\site-packages (from tensorflow) (14.0.1)\n",
      "Requirement already satisfied: packaging in c:\\users\\mervep\\anaconda3\\lib\\site-packages (from tensorflow) (20.4)\n",
      "Requirement already satisfied: protobuf<3.20,>=3.9.2 in c:\\users\\mervep\\anaconda3\\lib\\site-packages (from tensorflow) (3.19.4)\n",
      "Requirement already satisfied: setuptools in c:\\users\\mervep\\anaconda3\\lib\\site-packages (from tensorflow) (50.3.1.post20201107)\n",
      "Requirement already satisfied: typing-extensions>=3.6.6 in c:\\users\\mervep\\anaconda3\\lib\\site-packages (from tensorflow) (3.7.4.3)\n",
      "Requirement already satisfied: flatbuffers<2,>=1.12 in c:\\users\\mervep\\anaconda3\\lib\\site-packages (from tensorflow) (1.12)\n",
      "Requirement already satisfied: grpcio<2.0,>=1.24.3 in c:\\users\\mervep\\anaconda3\\lib\\site-packages (from tensorflow) (1.46.3)\n",
      "Requirement already satisfied: wrapt>=1.11.0 in c:\\users\\mervep\\anaconda3\\lib\\site-packages (from tensorflow) (1.11.2)\n",
      "Requirement already satisfied: termcolor>=1.1.0 in c:\\users\\mervep\\anaconda3\\lib\\site-packages (from tensorflow) (1.1.0)\n",
      "Requirement already satisfied: six>=1.12.0 in c:\\users\\mervep\\anaconda3\\lib\\site-packages (from tensorflow) (1.15.0)\n",
      "Requirement already satisfied: keras<2.10.0,>=2.9.0rc0 in c:\\users\\mervep\\anaconda3\\lib\\site-packages (from tensorflow) (2.9.0)\n",
      "Requirement already satisfied: h5py>=2.9.0 in c:\\users\\mervep\\anaconda3\\lib\\site-packages (from tensorflow) (2.10.0)\n",
      "Requirement already satisfied: opt-einsum>=2.3.2 in c:\\users\\mervep\\anaconda3\\lib\\site-packages (from tensorflow) (3.3.0)\n",
      "Requirement already satisfied: wheel>=0.26 in c:\\users\\mervep\\anaconda3\\lib\\site-packages (from tensorboard<2.10,>=2.9->tensorflow) (0.35.1)\n",
      "Requirement already satisfied: werkzeug>=1.0.1 in c:\\users\\mervep\\anaconda3\\lib\\site-packages (from tensorboard<2.10,>=2.9->tensorflow) (1.0.1)\n",
      "Requirement already satisfied: requests<3,>=2.21.0 in c:\\users\\mervep\\anaconda3\\lib\\site-packages (from tensorboard<2.10,>=2.9->tensorflow) (2.24.0)\n",
      "Requirement already satisfied: google-auth<3,>=1.6.3 in c:\\users\\mervep\\anaconda3\\lib\\site-packages (from tensorboard<2.10,>=2.9->tensorflow) (2.6.6)\n",
      "Requirement already satisfied: tensorboard-data-server<0.7.0,>=0.6.0 in c:\\users\\mervep\\anaconda3\\lib\\site-packages (from tensorboard<2.10,>=2.9->tensorflow) (0.6.1)\n",
      "Requirement already satisfied: tensorboard-plugin-wit>=1.6.0 in c:\\users\\mervep\\anaconda3\\lib\\site-packages (from tensorboard<2.10,>=2.9->tensorflow) (1.8.1)\n",
      "Requirement already satisfied: markdown>=2.6.8 in c:\\users\\mervep\\anaconda3\\lib\\site-packages (from tensorboard<2.10,>=2.9->tensorflow) (3.3.7)\n",
      "Requirement already satisfied: google-auth-oauthlib<0.5,>=0.4.1 in c:\\users\\mervep\\anaconda3\\lib\\site-packages (from tensorboard<2.10,>=2.9->tensorflow) (0.4.6)\n",
      "Requirement already satisfied: pyparsing>=2.0.2 in c:\\users\\mervep\\anaconda3\\lib\\site-packages (from packaging->tensorflow) (2.4.7)\n",
      "Requirement already satisfied: certifi>=2017.4.17 in c:\\users\\mervep\\anaconda3\\lib\\site-packages (from requests<3,>=2.21.0->tensorboard<2.10,>=2.9->tensorflow) (2020.6.20)\n",
      "Requirement already satisfied: chardet<4,>=3.0.2 in c:\\users\\mervep\\anaconda3\\lib\\site-packages (from requests<3,>=2.21.0->tensorboard<2.10,>=2.9->tensorflow) (3.0.4)\n",
      "Requirement already satisfied: urllib3!=1.25.0,!=1.25.1,<1.26,>=1.21.1 in c:\\users\\mervep\\anaconda3\\lib\\site-packages (from requests<3,>=2.21.0->tensorboard<2.10,>=2.9->tensorflow) (1.25.11)\n",
      "Requirement already satisfied: idna<3,>=2.5 in c:\\users\\mervep\\anaconda3\\lib\\site-packages (from requests<3,>=2.21.0->tensorboard<2.10,>=2.9->tensorflow) (2.10)\n",
      "Requirement already satisfied: rsa<5,>=3.1.4; python_version >= \"3.6\" in c:\\users\\mervep\\anaconda3\\lib\\site-packages (from google-auth<3,>=1.6.3->tensorboard<2.10,>=2.9->tensorflow) (4.8)\n",
      "Requirement already satisfied: cachetools<6.0,>=2.0.0 in c:\\users\\mervep\\anaconda3\\lib\\site-packages (from google-auth<3,>=1.6.3->tensorboard<2.10,>=2.9->tensorflow) (5.2.0)\n",
      "Requirement already satisfied: pyasn1-modules>=0.2.1 in c:\\users\\mervep\\anaconda3\\lib\\site-packages (from google-auth<3,>=1.6.3->tensorboard<2.10,>=2.9->tensorflow) (0.2.8)\n",
      "Requirement already satisfied: importlib-metadata>=4.4; python_version < \"3.10\" in c:\\users\\mervep\\anaconda3\\lib\\site-packages (from markdown>=2.6.8->tensorboard<2.10,>=2.9->tensorflow) (4.11.4)\n",
      "Requirement already satisfied: requests-oauthlib>=0.7.0 in c:\\users\\mervep\\anaconda3\\lib\\site-packages (from google-auth-oauthlib<0.5,>=0.4.1->tensorboard<2.10,>=2.9->tensorflow) (1.3.1)\n",
      "Requirement already satisfied: pyasn1>=0.1.3 in c:\\users\\mervep\\anaconda3\\lib\\site-packages (from rsa<5,>=3.1.4; python_version >= \"3.6\"->google-auth<3,>=1.6.3->tensorboard<2.10,>=2.9->tensorflow) (0.4.8)\n",
      "Requirement already satisfied: zipp>=0.5 in c:\\users\\mervep\\anaconda3\\lib\\site-packages (from importlib-metadata>=4.4; python_version < \"3.10\"->markdown>=2.6.8->tensorboard<2.10,>=2.9->tensorflow) (3.4.0)\n",
      "Requirement already satisfied: oauthlib>=3.0.0 in c:\\users\\mervep\\anaconda3\\lib\\site-packages (from requests-oauthlib>=0.7.0->google-auth-oauthlib<0.5,>=0.4.1->tensorboard<2.10,>=2.9->tensorflow) (3.2.0)\n"
     ]
    }
   ],
   "source": [
    "!pip install tensorflow"
   ]
  },
  {
   "cell_type": "code",
   "execution_count": 15,
   "metadata": {},
   "outputs": [],
   "source": [
    "import seaborn as sbn"
   ]
  },
  {
   "cell_type": "code",
   "execution_count": 16,
   "metadata": {},
   "outputs": [],
   "source": [
    "import matplotlib.pyplot as plt"
   ]
  },
  {
   "cell_type": "code",
   "execution_count": 17,
   "metadata": {},
   "outputs": [
    {
     "data": {
      "text/plain": [
       "<seaborn.axisgrid.PairGrid at 0x2c6b5df7cd0>"
      ]
     },
     "execution_count": 17,
     "metadata": {},
     "output_type": "execute_result"
    },
    {
     "data": {
      "image/png": "[encoded data removed]",
      "text/plain": [
       "<Figure size 540x540 with 12 Axes>"
      ]
     },
     "metadata": {
      "needs_background": "light"
     },
     "output_type": "display_data"
    }
   ],
   "source": [
    "sbn.pairplot(df)"
   ]
  },
  {
   "cell_type": "markdown",
   "metadata": {},
   "source": [
    "## veriyi test-train olarak ikiye bölme"
   ]
  },
  {
   "cell_type": "code",
   "execution_count": 18,
   "metadata": {},
   "outputs": [],
   "source": [
    "from sklearn.model_selection import train_test_split"
   ]
  },
  {
   "cell_type": "code",
   "execution_count": 19,
   "metadata": {},
   "outputs": [
    {
     "data": {
      "text/plain": [
       "<function sklearn.model_selection._split.train_test_split(*arrays, **options)>"
      ]
     },
     "execution_count": 19,
     "metadata": {},
     "output_type": "execute_result"
    }
   ],
   "source": [
    "train_test_split"
   ]
  },
  {
   "cell_type": "code",
   "execution_count": 20,
   "metadata": {},
   "outputs": [
    {
     "data": {
      "text/html": [
       "<div>\n",
       "<style scoped>\n",
       "    .dataframe tbody tr th:only-of-type {\n",
       "        vertical-align: middle;\n",
       "    }\n",
       "\n",
       "    .dataframe tbody tr th {\n",
       "        vertical-align: top;\n",
       "    }\n",
       "\n",
       "    .dataframe thead th {\n",
       "        text-align: right;\n",
       "    }\n",
       "</style>\n",
       "<table border=\"1\" class=\"dataframe\">\n",
       "  <thead>\n",
       "    <tr style=\"text-align: right;\">\n",
       "      <th></th>\n",
       "      <th>Fiyat</th>\n",
       "      <th>BisikletOzellik1</th>\n",
       "      <th>BisikletOzellik2</th>\n",
       "    </tr>\n",
       "  </thead>\n",
       "  <tbody>\n",
       "    <tr>\n",
       "      <th>0</th>\n",
       "      <td>807.673876</td>\n",
       "      <td>1749.628226</td>\n",
       "      <td>1749.590668</td>\n",
       "    </tr>\n",
       "    <tr>\n",
       "      <th>1</th>\n",
       "      <td>959.227520</td>\n",
       "      <td>1748.007826</td>\n",
       "      <td>1751.824206</td>\n",
       "    </tr>\n",
       "    <tr>\n",
       "      <th>2</th>\n",
       "      <td>718.020033</td>\n",
       "      <td>1750.122967</td>\n",
       "      <td>1747.977026</td>\n",
       "    </tr>\n",
       "    <tr>\n",
       "      <th>3</th>\n",
       "      <td>945.668885</td>\n",
       "      <td>1749.916440</td>\n",
       "      <td>1750.771646</td>\n",
       "    </tr>\n",
       "    <tr>\n",
       "      <th>4</th>\n",
       "      <td>955.542968</td>\n",
       "      <td>1750.780519</td>\n",
       "      <td>1750.592430</td>\n",
       "    </tr>\n",
       "    <tr>\n",
       "      <th>...</th>\n",
       "      <td>...</td>\n",
       "      <td>...</td>\n",
       "      <td>...</td>\n",
       "    </tr>\n",
       "    <tr>\n",
       "      <th>995</th>\n",
       "      <td>833.920637</td>\n",
       "      <td>1750.033229</td>\n",
       "      <td>1749.427281</td>\n",
       "    </tr>\n",
       "    <tr>\n",
       "      <th>996</th>\n",
       "      <td>800.298076</td>\n",
       "      <td>1747.996913</td>\n",
       "      <td>1750.035046</td>\n",
       "    </tr>\n",
       "    <tr>\n",
       "      <th>997</th>\n",
       "      <td>799.261737</td>\n",
       "      <td>1752.540381</td>\n",
       "      <td>1747.983310</td>\n",
       "    </tr>\n",
       "    <tr>\n",
       "      <th>998</th>\n",
       "      <td>705.802257</td>\n",
       "      <td>1751.349290</td>\n",
       "      <td>1747.484989</td>\n",
       "    </tr>\n",
       "    <tr>\n",
       "      <th>999</th>\n",
       "      <td>1048.892414</td>\n",
       "      <td>1748.656426</td>\n",
       "      <td>1752.539962</td>\n",
       "    </tr>\n",
       "  </tbody>\n",
       "</table>\n",
       "<p>1000 rows × 3 columns</p>\n",
       "</div>"
      ],
      "text/plain": [
       "           Fiyat  BisikletOzellik1  BisikletOzellik2\n",
       "0     807.673876       1749.628226       1749.590668\n",
       "1     959.227520       1748.007826       1751.824206\n",
       "2     718.020033       1750.122967       1747.977026\n",
       "3     945.668885       1749.916440       1750.771646\n",
       "4     955.542968       1750.780519       1750.592430\n",
       "..           ...               ...               ...\n",
       "995   833.920637       1750.033229       1749.427281\n",
       "996   800.298076       1747.996913       1750.035046\n",
       "997   799.261737       1752.540381       1747.983310\n",
       "998   705.802257       1751.349290       1747.484989\n",
       "999  1048.892414       1748.656426       1752.539962\n",
       "\n",
       "[1000 rows x 3 columns]"
      ]
     },
     "execution_count": 20,
     "metadata": {},
     "output_type": "execute_result"
    }
   ],
   "source": [
    "df # fiyat -> y "
   ]
  },
  {
   "cell_type": "code",
   "execution_count": 21,
   "metadata": {},
   "outputs": [],
   "source": [
    "y = df[\"Fiyat\"].values #fiyat verilerini array e dönüştürdük"
   ]
  },
  {
   "cell_type": "code",
   "execution_count": 22,
   "metadata": {},
   "outputs": [],
   "source": [
    "x = df[[\"BisikletOzellik1\",\"BisikletOzellik2\"]].values"
   ]
  },
  {
   "cell_type": "code",
   "execution_count": 23,
   "metadata": {},
   "outputs": [],
   "source": [
    "x_train,x_test,y_train,y_test = train_test_split(x,y,test_size = 0.33,random_state = 15)"
   ]
  },
  {
   "cell_type": "code",
   "execution_count": 24,
   "metadata": {},
   "outputs": [
    {
     "data": {
      "text/plain": [
       "(670, 2)"
      ]
     },
     "execution_count": 24,
     "metadata": {},
     "output_type": "execute_result"
    }
   ],
   "source": [
    "x_train.shape #shape bit attribute, method olmadığı için sonuna parantez koyulmaz"
   ]
  },
  {
   "cell_type": "code",
   "execution_count": 25,
   "metadata": {},
   "outputs": [],
   "source": [
    "# scaling -> boyut değişikliği. "
   ]
  },
  {
   "cell_type": "code",
   "execution_count": 26,
   "metadata": {},
   "outputs": [],
   "source": [
    "from sklearn.preprocessing import MinMaxScaler"
   ]
  },
  {
   "cell_type": "code",
   "execution_count": 27,
   "metadata": {},
   "outputs": [],
   "source": [
    "scaler = MinMaxScaler()"
   ]
  },
  {
   "cell_type": "code",
   "execution_count": 28,
   "metadata": {},
   "outputs": [
    {
     "data": {
      "text/plain": [
       "MinMaxScaler()"
      ]
     },
     "execution_count": 28,
     "metadata": {},
     "output_type": "execute_result"
    }
   ],
   "source": [
    "scaler.fit(x_train)"
   ]
  },
  {
   "cell_type": "code",
   "execution_count": 29,
   "metadata": {},
   "outputs": [],
   "source": [
    "x_train = scaler.transform(x_train)\n",
    "x_test = scaler.transform(x_test)"
   ]
  },
  {
   "cell_type": "code",
   "execution_count": 30,
   "metadata": {},
   "outputs": [
    {
     "data": {
      "text/plain": [
       "array([[0.3177906 , 0.64341466],\n",
       "       [0.61991638, 0.89583174],\n",
       "       [0.53950097, 0.0980286 ],\n",
       "       ...,\n",
       "       [0.2352117 , 0.52644765],\n",
       "       [0.7576794 , 0.19157421],\n",
       "       [0.4292982 , 0.16530301]])"
      ]
     },
     "execution_count": 30,
     "metadata": {},
     "output_type": "execute_result"
    }
   ],
   "source": [
    "x_train"
   ]
  },
  {
   "cell_type": "code",
   "execution_count": 31,
   "metadata": {},
   "outputs": [],
   "source": [
    "import tensorflow as tf"
   ]
  },
  {
   "cell_type": "code",
   "execution_count": 32,
   "metadata": {},
   "outputs": [],
   "source": [
    "# sequantial => hangi katmanlarla çalışacağımızı belirtiyoruz"
   ]
  },
  {
   "cell_type": "code",
   "execution_count": 34,
   "metadata": {},
   "outputs": [],
   "source": [
    "from tensorflow.keras.models import Sequential\n",
    "from tensorflow.keras.layers import Dense"
   ]
  },
  {
   "cell_type": "markdown",
   "metadata": {},
   "source": [
    "## model oluşturma "
   ]
  },
  {
   "cell_type": "code",
   "execution_count": 35,
   "metadata": {},
   "outputs": [],
   "source": [
    "model = Sequential() # model oluşturuldu"
   ]
  },
  {
   "cell_type": "code",
   "execution_count": 38,
   "metadata": {},
   "outputs": [],
   "source": [
    "model.add(Dense(4,activation = \"relu\")) #5 tane nöron olacak, activasyon fonk relu olacak "
   ]
  },
  {
   "cell_type": "code",
   "execution_count": 39,
   "metadata": {},
   "outputs": [],
   "source": [
    "#kaç katman olacaksa, o kadar satır model.add yapılır"
   ]
  },
  {
   "cell_type": "code",
   "execution_count": 40,
   "metadata": {},
   "outputs": [],
   "source": [
    "model.add(Dense(4,activation = \"relu\"))\n",
    "model.add(Dense(4,activation = \"relu\"))\n",
    "model.add(Dense(4,activation = \"relu\"))"
   ]
  },
  {
   "cell_type": "code",
   "execution_count": 41,
   "metadata": {},
   "outputs": [],
   "source": [
    "model.add(Dense(1)) #output norönu 1 tane verilir. "
   ]
  },
  {
   "cell_type": "code",
   "execution_count": 42,
   "metadata": {},
   "outputs": [],
   "source": [
    "model.compile(optimizer=\"rmsprop\",loss=\"mse\") #mse ->mean squared error tells how you close regression line is to a set of points"
   ]
  },
  {
   "cell_type": "code",
   "execution_count": 43,
   "metadata": {},
   "outputs": [],
   "source": [
    "#batch -> büyük veri setinde, aynı anda veriyi modele vermek sıkıntı yaratacağından bölerek verilir"
   ]
  },
  {
   "cell_type": "markdown",
   "metadata": {},
   "source": [
    "## oluşturulan modelde eğitme"
   ]
  },
  {
   "cell_type": "code",
   "execution_count": 44,
   "metadata": {
    "collapsed": true
   },
   "outputs": [
    {
     "name": "stdout",
     "output_type": "stream",
     "text": [
      "Epoch 1/250\n",
      "21/21 [==============================] - 2s 2ms/step - loss: 795868.0000\n",
      "Epoch 2/250\n",
      "21/21 [==============================] - 0s 2ms/step - loss: 795742.6875\n",
      "Epoch 3/250\n",
      "21/21 [==============================] - 0s 2ms/step - loss: 795617.1250\n",
      "Epoch 4/250\n",
      "21/21 [==============================] - 0s 2ms/step - loss: 795475.1250\n",
      "Epoch 5/250\n",
      "21/21 [==============================] - 0s 3ms/step - loss: 795306.8125\n",
      "Epoch 6/250\n",
      "21/21 [==============================] - 0s 2ms/step - loss: 795110.8750\n",
      "Epoch 7/250\n",
      "21/21 [==============================] - 0s 2ms/step - loss: 794883.3125\n",
      "Epoch 8/250\n",
      "21/21 [==============================] - 0s 2ms/step - loss: 794617.3125\n",
      "Epoch 9/250\n",
      "21/21 [==============================] - 0s 3ms/step - loss: 794295.5625\n",
      "Epoch 10/250\n",
      "21/21 [==============================] - 0s 3ms/step - loss: 793885.7500\n",
      "Epoch 11/250\n",
      "21/21 [==============================] - 0s 3ms/step - loss: 793376.1250\n",
      "Epoch 12/250\n",
      "21/21 [==============================] - 0s 3ms/step - loss: 792735.0000\n",
      "Epoch 13/250\n",
      "21/21 [==============================] - 0s 2ms/step - loss: 791906.9375\n",
      "Epoch 14/250\n",
      "21/21 [==============================] - 0s 2ms/step - loss: 790852.5625\n",
      "Epoch 15/250\n",
      "21/21 [==============================] - 0s 3ms/step - loss: 789519.4375\n",
      "Epoch 16/250\n",
      "21/21 [==============================] - 0s 2ms/step - loss: 787842.3125\n",
      "Epoch 17/250\n",
      "21/21 [==============================] - 0s 3ms/step - loss: 785767.6250\n",
      "Epoch 18/250\n",
      "21/21 [==============================] - 0s 3ms/step - loss: 783219.6875\n",
      "Epoch 19/250\n",
      "21/21 [==============================] - 0s 2ms/step - loss: 780112.3125\n",
      "Epoch 20/250\n",
      "21/21 [==============================] - 0s 2ms/step - loss: 776341.9375\n",
      "Epoch 21/250\n",
      "21/21 [==============================] - 0s 2ms/step - loss: 771847.9375\n",
      "Epoch 22/250\n",
      "21/21 [==============================] - 0s 2ms/step - loss: 766571.5000\n",
      "Epoch 23/250\n",
      "21/21 [==============================] - 0s 3ms/step - loss: 760369.2500\n",
      "Epoch 24/250\n",
      "21/21 [==============================] - 0s 2ms/step - loss: 753002.7500\n",
      "Epoch 25/250\n",
      "21/21 [==============================] - 0s 3ms/step - loss: 744248.3750\n",
      "Epoch 26/250\n",
      "21/21 [==============================] - 0s 3ms/step - loss: 734065.1250\n",
      "Epoch 27/250\n",
      "21/21 [==============================] - 0s 3ms/step - loss: 722220.2500\n",
      "Epoch 28/250\n",
      "21/21 [==============================] - 0s 3ms/step - loss: 708498.9375\n",
      "Epoch 29/250\n",
      "21/21 [==============================] - 0s 2ms/step - loss: 692737.3125\n",
      "Epoch 30/250\n",
      "21/21 [==============================] - 0s 3ms/step - loss: 674731.2500\n",
      "Epoch 31/250\n",
      "21/21 [==============================] - 0s 2ms/step - loss: 654211.5000\n",
      "Epoch 32/250\n",
      "21/21 [==============================] - 0s 2ms/step - loss: 631189.9375\n",
      "Epoch 33/250\n",
      "21/21 [==============================] - 0s 3ms/step - loss: 605540.0625\n",
      "Epoch 34/250\n",
      "21/21 [==============================] - 0s 3ms/step - loss: 576898.9375\n",
      "Epoch 35/250\n",
      "21/21 [==============================] - 0s 3ms/step - loss: 545301.7500\n",
      "Epoch 36/250\n",
      "21/21 [==============================] - 0s 2ms/step - loss: 510775.3438\n",
      "Epoch 37/250\n",
      "21/21 [==============================] - 0s 3ms/step - loss: 473129.0625\n",
      "Epoch 38/250\n",
      "21/21 [==============================] - 0s 2ms/step - loss: 432797.5312\n",
      "Epoch 39/250\n",
      "21/21 [==============================] - 0s 2ms/step - loss: 390110.9688\n",
      "Epoch 40/250\n",
      "21/21 [==============================] - 0s 3ms/step - loss: 344759.8750\n",
      "Epoch 41/250\n",
      "21/21 [==============================] - 0s 3ms/step - loss: 298233.9688\n",
      "Epoch 42/250\n",
      "21/21 [==============================] - 0s 2ms/step - loss: 250937.4531\n",
      "Epoch 43/250\n",
      "21/21 [==============================] - 0s 2ms/step - loss: 203994.6094\n",
      "Epoch 44/250\n",
      "21/21 [==============================] - 0s 2ms/step - loss: 158651.3438\n",
      "Epoch 45/250\n",
      "21/21 [==============================] - 0s 2ms/step - loss: 115969.1250\n",
      "Epoch 46/250\n",
      "21/21 [==============================] - 0s 3ms/step - loss: 78045.0312\n",
      "Epoch 47/250\n",
      "21/21 [==============================] - 0s 2ms/step - loss: 47307.0312\n",
      "Epoch 48/250\n",
      "21/21 [==============================] - 0s 3ms/step - loss: 25806.7754\n",
      "Epoch 49/250\n",
      "21/21 [==============================] - 0s 3ms/step - loss: 14286.1777\n",
      "Epoch 50/250\n",
      "21/21 [==============================] - 0s 3ms/step - loss: 11100.8740\n",
      "Epoch 51/250\n",
      "21/21 [==============================] - 0s 2ms/step - loss: 10718.5674\n",
      "Epoch 52/250\n",
      "21/21 [==============================] - 0s 3ms/step - loss: 10504.5059\n",
      "Epoch 53/250\n",
      "21/21 [==============================] - 0s 3ms/step - loss: 10235.8721\n",
      "Epoch 54/250\n",
      "21/21 [==============================] - 0s 2ms/step - loss: 9995.3369\n",
      "Epoch 55/250\n",
      "21/21 [==============================] - 0s 2ms/step - loss: 9734.8721\n",
      "Epoch 56/250\n",
      "21/21 [==============================] - 0s 3ms/step - loss: 9486.7236\n",
      "Epoch 57/250\n",
      "21/21 [==============================] - 0s 2ms/step - loss: 9212.5840\n",
      "Epoch 58/250\n",
      "21/21 [==============================] - 0s 3ms/step - loss: 8983.6943\n",
      "Epoch 59/250\n",
      "21/21 [==============================] - 0s 3ms/step - loss: 8724.5723\n",
      "Epoch 60/250\n",
      "21/21 [==============================] - 0s 3ms/step - loss: 8463.2441\n",
      "Epoch 61/250\n",
      "21/21 [==============================] - 0s 3ms/step - loss: 8208.9922\n",
      "Epoch 62/250\n",
      "21/21 [==============================] - 0s 3ms/step - loss: 7956.5127\n",
      "Epoch 63/250\n",
      "21/21 [==============================] - 0s 3ms/step - loss: 7754.8604\n",
      "Epoch 64/250\n",
      "21/21 [==============================] - 0s 3ms/step - loss: 7549.3374\n",
      "Epoch 65/250\n",
      "21/21 [==============================] - 0s 3ms/step - loss: 7291.0195\n",
      "Epoch 66/250\n",
      "21/21 [==============================] - 0s 2ms/step - loss: 7088.7358\n",
      "Epoch 67/250\n",
      "21/21 [==============================] - 0s 2ms/step - loss: 6827.6553\n",
      "Epoch 68/250\n",
      "21/21 [==============================] - 0s 2ms/step - loss: 6576.8135\n",
      "Epoch 69/250\n",
      "21/21 [==============================] - 0s 3ms/step - loss: 6373.9521\n",
      "Epoch 70/250\n",
      "21/21 [==============================] - 0s 2ms/step - loss: 6205.0498\n",
      "Epoch 71/250\n",
      "21/21 [==============================] - 0s 3ms/step - loss: 5975.5874\n",
      "Epoch 72/250\n",
      "21/21 [==============================] - 0s 3ms/step - loss: 5797.6860\n",
      "Epoch 73/250\n",
      "21/21 [==============================] - 0s 4ms/step - loss: 5578.3457\n",
      "Epoch 74/250\n",
      "21/21 [==============================] - 0s 3ms/step - loss: 5383.6729\n",
      "Epoch 75/250\n",
      "21/21 [==============================] - 0s 3ms/step - loss: 5184.5239\n",
      "Epoch 76/250\n",
      "21/21 [==============================] - 0s 3ms/step - loss: 5032.6226\n",
      "Epoch 77/250\n",
      "21/21 [==============================] - 0s 2ms/step - loss: 4828.6890\n",
      "Epoch 78/250\n",
      "21/21 [==============================] - 0s 3ms/step - loss: 4640.3281\n",
      "Epoch 79/250\n",
      "21/21 [==============================] - 0s 3ms/step - loss: 4434.7256\n",
      "Epoch 80/250\n",
      "21/21 [==============================] - 0s 2ms/step - loss: 4230.6904\n",
      "Epoch 81/250\n",
      "21/21 [==============================] - 0s 2ms/step - loss: 4030.4646\n",
      "Epoch 82/250\n",
      "21/21 [==============================] - 0s 2ms/step - loss: 3876.2710\n",
      "Epoch 83/250\n",
      "21/21 [==============================] - 0s 2ms/step - loss: 3659.4033\n",
      "Epoch 84/250\n",
      "21/21 [==============================] - 0s 2ms/step - loss: 3520.7585\n",
      "Epoch 85/250\n",
      "21/21 [==============================] - 0s 2ms/step - loss: 3337.0354\n",
      "Epoch 86/250\n",
      "21/21 [==============================] - 0s 2ms/step - loss: 3170.6851\n",
      "Epoch 87/250\n",
      "21/21 [==============================] - 0s 2ms/step - loss: 2980.5938\n",
      "Epoch 88/250\n",
      "21/21 [==============================] - 0s 2ms/step - loss: 2805.3936\n",
      "Epoch 89/250\n",
      "21/21 [==============================] - 0s 2ms/step - loss: 2664.2520\n",
      "Epoch 90/250\n",
      "21/21 [==============================] - 0s 2ms/step - loss: 2543.9907\n",
      "Epoch 91/250\n",
      "21/21 [==============================] - 0s 2ms/step - loss: 2391.1194\n",
      "Epoch 92/250\n",
      "21/21 [==============================] - 0s 2ms/step - loss: 2251.0251\n",
      "Epoch 93/250\n",
      "21/21 [==============================] - 0s 2ms/step - loss: 2133.8906\n",
      "Epoch 94/250\n",
      "21/21 [==============================] - 0s 3ms/step - loss: 2003.5583\n",
      "Epoch 95/250\n",
      "21/21 [==============================] - 0s 2ms/step - loss: 1878.7023\n",
      "Epoch 96/250\n",
      "21/21 [==============================] - 0s 2ms/step - loss: 1761.4875\n",
      "Epoch 97/250\n",
      "21/21 [==============================] - 0s 2ms/step - loss: 1633.6310\n",
      "Epoch 98/250\n",
      "21/21 [==============================] - 0s 2ms/step - loss: 1508.1907\n",
      "Epoch 99/250\n",
      "21/21 [==============================] - 0s 2ms/step - loss: 1387.9945\n",
      "Epoch 100/250\n",
      "21/21 [==============================] - 0s 2ms/step - loss: 1270.5811\n",
      "Epoch 101/250\n",
      "21/21 [==============================] - 0s 2ms/step - loss: 1159.5441\n",
      "Epoch 102/250\n",
      "21/21 [==============================] - 0s 2ms/step - loss: 1057.0591\n",
      "Epoch 103/250\n",
      "21/21 [==============================] - 0s 2ms/step - loss: 962.7003\n",
      "Epoch 104/250\n",
      "21/21 [==============================] - 0s 2ms/step - loss: 868.1483\n",
      "Epoch 105/250\n",
      "21/21 [==============================] - 0s 2ms/step - loss: 790.6979\n",
      "Epoch 106/250\n",
      "21/21 [==============================] - 0s 2ms/step - loss: 711.8456\n",
      "Epoch 107/250\n",
      "21/21 [==============================] - 0s 2ms/step - loss: 633.6443\n",
      "Epoch 108/250\n",
      "21/21 [==============================] - 0s 2ms/step - loss: 571.0286\n",
      "Epoch 109/250\n",
      "21/21 [==============================] - 0s 2ms/step - loss: 502.8754\n",
      "Epoch 110/250\n",
      "21/21 [==============================] - 0s 2ms/step - loss: 448.7861\n",
      "Epoch 111/250\n",
      "21/21 [==============================] - 0s 2ms/step - loss: 401.9555\n",
      "Epoch 112/250\n",
      "21/21 [==============================] - 0s 2ms/step - loss: 356.4488\n",
      "Epoch 113/250\n",
      "21/21 [==============================] - 0s 2ms/step - loss: 320.4493\n",
      "Epoch 114/250\n",
      "21/21 [==============================] - 0s 2ms/step - loss: 280.6877\n",
      "Epoch 115/250\n",
      "21/21 [==============================] - 0s 2ms/step - loss: 252.1638\n",
      "Epoch 116/250\n",
      "21/21 [==============================] - 0s 2ms/step - loss: 221.5106\n",
      "Epoch 117/250\n",
      "21/21 [==============================] - 0s 2ms/step - loss: 201.3005\n",
      "Epoch 118/250\n",
      "21/21 [==============================] - 0s 2ms/step - loss: 177.5904\n",
      "Epoch 119/250\n",
      "21/21 [==============================] - 0s 2ms/step - loss: 158.5471\n",
      "Epoch 120/250\n",
      "21/21 [==============================] - 0s 2ms/step - loss: 144.9610\n",
      "Epoch 121/250\n",
      "21/21 [==============================] - 0s 2ms/step - loss: 131.1094\n",
      "Epoch 122/250\n",
      "21/21 [==============================] - 0s 2ms/step - loss: 117.0782\n",
      "Epoch 123/250\n",
      "21/21 [==============================] - 0s 2ms/step - loss: 113.7803\n",
      "Epoch 124/250\n",
      "21/21 [==============================] - 0s 2ms/step - loss: 103.0616\n",
      "Epoch 125/250\n",
      "21/21 [==============================] - 0s 2ms/step - loss: 98.1539\n",
      "Epoch 126/250\n",
      "21/21 [==============================] - 0s 2ms/step - loss: 92.2227\n",
      "Epoch 127/250\n",
      "21/21 [==============================] - 0s 2ms/step - loss: 87.2884\n",
      "Epoch 128/250\n",
      "21/21 [==============================] - 0s 2ms/step - loss: 88.9038\n",
      "Epoch 129/250\n",
      "21/21 [==============================] - 0s 2ms/step - loss: 87.6363\n",
      "Epoch 130/250\n",
      "21/21 [==============================] - 0s 2ms/step - loss: 84.7057\n",
      "Epoch 131/250\n",
      "21/21 [==============================] - 0s 2ms/step - loss: 84.1240\n",
      "Epoch 132/250\n",
      "21/21 [==============================] - 0s 2ms/step - loss: 78.7355\n",
      "Epoch 133/250\n",
      "21/21 [==============================] - 0s 2ms/step - loss: 81.9446\n",
      "Epoch 134/250\n",
      "21/21 [==============================] - 0s 2ms/step - loss: 83.3955\n",
      "Epoch 135/250\n",
      "21/21 [==============================] - 0s 2ms/step - loss: 76.6481\n",
      "Epoch 136/250\n",
      "21/21 [==============================] - 0s 2ms/step - loss: 77.7542\n",
      "Epoch 137/250\n",
      "21/21 [==============================] - 0s 2ms/step - loss: 81.7095\n",
      "Epoch 138/250\n",
      "21/21 [==============================] - 0s 2ms/step - loss: 82.1319\n",
      "Epoch 139/250\n",
      "21/21 [==============================] - 0s 2ms/step - loss: 83.6249\n",
      "Epoch 140/250\n",
      "21/21 [==============================] - 0s 2ms/step - loss: 80.5662\n",
      "Epoch 141/250\n",
      "21/21 [==============================] - 0s 2ms/step - loss: 79.8304\n",
      "Epoch 142/250\n",
      "21/21 [==============================] - 0s 2ms/step - loss: 79.2387\n",
      "Epoch 143/250\n",
      "21/21 [==============================] - 0s 2ms/step - loss: 79.8066\n",
      "Epoch 144/250\n",
      "21/21 [==============================] - 0s 2ms/step - loss: 81.6166\n",
      "Epoch 145/250\n",
      "21/21 [==============================] - 0s 2ms/step - loss: 82.2706\n",
      "Epoch 146/250\n",
      "21/21 [==============================] - 0s 2ms/step - loss: 79.6817\n",
      "Epoch 147/250\n",
      "21/21 [==============================] - 0s 2ms/step - loss: 81.7082\n",
      "Epoch 148/250\n",
      "21/21 [==============================] - 0s 2ms/step - loss: 78.7587\n",
      "Epoch 149/250\n",
      "21/21 [==============================] - 0s 2ms/step - loss: 78.3723\n",
      "Epoch 150/250\n",
      "21/21 [==============================] - 0s 2ms/step - loss: 80.4093\n",
      "Epoch 151/250\n",
      "21/21 [==============================] - 0s 2ms/step - loss: 82.6938\n",
      "Epoch 152/250\n",
      "21/21 [==============================] - 0s 2ms/step - loss: 80.3194\n",
      "Epoch 153/250\n",
      "21/21 [==============================] - 0s 2ms/step - loss: 78.7011\n",
      "Epoch 154/250\n",
      "21/21 [==============================] - 0s 2ms/step - loss: 84.1459\n",
      "Epoch 155/250\n",
      "21/21 [==============================] - 0s 2ms/step - loss: 79.3452\n",
      "Epoch 156/250\n",
      "21/21 [==============================] - 0s 3ms/step - loss: 80.2400\n",
      "Epoch 157/250\n",
      "21/21 [==============================] - 0s 3ms/step - loss: 78.2379\n",
      "Epoch 158/250\n",
      "21/21 [==============================] - 0s 2ms/step - loss: 82.3930\n",
      "Epoch 159/250\n",
      "21/21 [==============================] - 0s 2ms/step - loss: 76.4637\n",
      "Epoch 160/250\n",
      "21/21 [==============================] - 0s 3ms/step - loss: 79.3011\n",
      "Epoch 161/250\n",
      "21/21 [==============================] - 0s 3ms/step - loss: 78.4010\n",
      "Epoch 162/250\n",
      "21/21 [==============================] - 0s 3ms/step - loss: 81.5852\n",
      "Epoch 163/250\n",
      "21/21 [==============================] - 0s 3ms/step - loss: 82.5320\n",
      "Epoch 164/250\n",
      "21/21 [==============================] - 0s 2ms/step - loss: 77.0594\n",
      "Epoch 165/250\n",
      "21/21 [==============================] - 0s 3ms/step - loss: 82.2155\n",
      "Epoch 166/250\n",
      "21/21 [==============================] - 0s 4ms/step - loss: 79.8902\n",
      "Epoch 167/250\n",
      "21/21 [==============================] - 0s 3ms/step - loss: 80.6125\n",
      "Epoch 168/250\n",
      "21/21 [==============================] - 0s 3ms/step - loss: 77.3485\n",
      "Epoch 169/250\n",
      "21/21 [==============================] - 0s 3ms/step - loss: 80.9111\n",
      "Epoch 170/250\n",
      "21/21 [==============================] - 0s 2ms/step - loss: 82.5623\n",
      "Epoch 171/250\n",
      "21/21 [==============================] - 0s 3ms/step - loss: 80.4914\n",
      "Epoch 172/250\n",
      "21/21 [==============================] - 0s 3ms/step - loss: 81.7697\n",
      "Epoch 173/250\n",
      "21/21 [==============================] - 0s 3ms/step - loss: 80.9793\n",
      "Epoch 174/250\n",
      "21/21 [==============================] - 0s 3ms/step - loss: 81.8446\n",
      "Epoch 175/250\n",
      "21/21 [==============================] - 0s 2ms/step - loss: 78.4500\n",
      "Epoch 176/250\n",
      "21/21 [==============================] - 0s 2ms/step - loss: 80.3431\n",
      "Epoch 177/250\n",
      "21/21 [==============================] - 0s 3ms/step - loss: 77.5936\n",
      "Epoch 178/250\n",
      "21/21 [==============================] - 0s 3ms/step - loss: 81.4325\n",
      "Epoch 179/250\n",
      "21/21 [==============================] - 0s 3ms/step - loss: 80.0341\n",
      "Epoch 180/250\n",
      "21/21 [==============================] - 0s 3ms/step - loss: 82.5680\n",
      "Epoch 181/250\n",
      "21/21 [==============================] - 0s 3ms/step - loss: 78.8247\n",
      "Epoch 182/250\n",
      "21/21 [==============================] - 0s 2ms/step - loss: 84.8423\n",
      "Epoch 183/250\n",
      "21/21 [==============================] - 0s 3ms/step - loss: 77.3061\n",
      "Epoch 184/250\n",
      "21/21 [==============================] - 0s 3ms/step - loss: 82.2065\n",
      "Epoch 185/250\n",
      "21/21 [==============================] - 0s 3ms/step - loss: 79.3775\n",
      "Epoch 186/250\n",
      "21/21 [==============================] - 0s 3ms/step - loss: 80.2858\n",
      "Epoch 187/250\n",
      "21/21 [==============================] - 0s 3ms/step - loss: 81.4738\n",
      "Epoch 188/250\n",
      "21/21 [==============================] - 0s 3ms/step - loss: 78.6068\n",
      "Epoch 189/250\n",
      "21/21 [==============================] - 0s 3ms/step - loss: 80.0311\n",
      "Epoch 190/250\n",
      "21/21 [==============================] - 0s 3ms/step - loss: 76.1249\n",
      "Epoch 191/250\n",
      "21/21 [==============================] - 0s 3ms/step - loss: 81.5008\n",
      "Epoch 192/250\n",
      "21/21 [==============================] - 0s 3ms/step - loss: 83.7902\n",
      "Epoch 193/250\n",
      "21/21 [==============================] - 0s 3ms/step - loss: 79.7296\n",
      "Epoch 194/250\n",
      "21/21 [==============================] - 0s 3ms/step - loss: 81.0954\n",
      "Epoch 195/250\n"
     ]
    },
    {
     "name": "stdout",
     "output_type": "stream",
     "text": [
      "21/21 [==============================] - 0s 3ms/step - loss: 79.0659\n",
      "Epoch 196/250\n",
      "21/21 [==============================] - 0s 3ms/step - loss: 78.9344\n",
      "Epoch 197/250\n",
      "21/21 [==============================] - 0s 3ms/step - loss: 78.8743\n",
      "Epoch 198/250\n",
      "21/21 [==============================] - 0s 3ms/step - loss: 79.9313\n",
      "Epoch 199/250\n",
      "21/21 [==============================] - 0s 3ms/step - loss: 78.8202\n",
      "Epoch 200/250\n",
      "21/21 [==============================] - 0s 3ms/step - loss: 81.2267\n",
      "Epoch 201/250\n",
      "21/21 [==============================] - 0s 3ms/step - loss: 74.0885\n",
      "Epoch 202/250\n",
      "21/21 [==============================] - 0s 2ms/step - loss: 82.3765\n",
      "Epoch 203/250\n",
      "21/21 [==============================] - 0s 3ms/step - loss: 81.8092\n",
      "Epoch 204/250\n",
      "21/21 [==============================] - 0s 3ms/step - loss: 78.9516\n",
      "Epoch 205/250\n",
      "21/21 [==============================] - 0s 3ms/step - loss: 76.1993\n",
      "Epoch 206/250\n",
      "21/21 [==============================] - 0s 3ms/step - loss: 82.7348\n",
      "Epoch 207/250\n",
      "21/21 [==============================] - 0s 3ms/step - loss: 79.9233\n",
      "Epoch 208/250\n",
      "21/21 [==============================] - 0s 3ms/step - loss: 79.4454\n",
      "Epoch 209/250\n",
      "21/21 [==============================] - 0s 3ms/step - loss: 83.5720\n",
      "Epoch 210/250\n",
      "21/21 [==============================] - 0s 3ms/step - loss: 80.6695\n",
      "Epoch 211/250\n",
      "21/21 [==============================] - 0s 3ms/step - loss: 77.8389\n",
      "Epoch 212/250\n",
      "21/21 [==============================] - 0s 2ms/step - loss: 81.5270\n",
      "Epoch 213/250\n",
      "21/21 [==============================] - 0s 3ms/step - loss: 79.6873\n",
      "Epoch 214/250\n",
      "21/21 [==============================] - 0s 3ms/step - loss: 81.7094\n",
      "Epoch 215/250\n",
      "21/21 [==============================] - 0s 3ms/step - loss: 80.5299\n",
      "Epoch 216/250\n",
      "21/21 [==============================] - 0s 3ms/step - loss: 80.2502\n",
      "Epoch 217/250\n",
      "21/21 [==============================] - 0s 3ms/step - loss: 79.5369\n",
      "Epoch 218/250\n",
      "21/21 [==============================] - 0s 2ms/step - loss: 76.9487\n",
      "Epoch 219/250\n",
      "21/21 [==============================] - 0s 3ms/step - loss: 83.0480\n",
      "Epoch 220/250\n",
      "21/21 [==============================] - 0s 3ms/step - loss: 76.6442\n",
      "Epoch 221/250\n",
      "21/21 [==============================] - 0s 2ms/step - loss: 78.5814\n",
      "Epoch 222/250\n",
      "21/21 [==============================] - 0s 3ms/step - loss: 74.3727\n",
      "Epoch 223/250\n",
      "21/21 [==============================] - 0s 3ms/step - loss: 85.2268\n",
      "Epoch 224/250\n",
      "21/21 [==============================] - 0s 3ms/step - loss: 80.0515\n",
      "Epoch 225/250\n",
      "21/21 [==============================] - 0s 3ms/step - loss: 82.6197\n",
      "Epoch 226/250\n",
      "21/21 [==============================] - 0s 3ms/step - loss: 82.5179\n",
      "Epoch 227/250\n",
      "21/21 [==============================] - 0s 3ms/step - loss: 80.5014\n",
      "Epoch 228/250\n",
      "21/21 [==============================] - 0s 3ms/step - loss: 81.0501\n",
      "Epoch 229/250\n",
      "21/21 [==============================] - 0s 4ms/step - loss: 78.4839\n",
      "Epoch 230/250\n",
      "21/21 [==============================] - 0s 3ms/step - loss: 78.9224\n",
      "Epoch 231/250\n",
      "21/21 [==============================] - 0s 3ms/step - loss: 83.1732\n",
      "Epoch 232/250\n",
      "21/21 [==============================] - 0s 3ms/step - loss: 78.8218\n",
      "Epoch 233/250\n",
      "21/21 [==============================] - 0s 3ms/step - loss: 79.4576\n",
      "Epoch 234/250\n",
      "21/21 [==============================] - 0s 2ms/step - loss: 81.9007\n",
      "Epoch 235/250\n",
      "21/21 [==============================] - 0s 3ms/step - loss: 78.1848\n",
      "Epoch 236/250\n",
      "21/21 [==============================] - 0s 3ms/step - loss: 82.4442\n",
      "Epoch 237/250\n",
      "21/21 [==============================] - 0s 4ms/step - loss: 80.0504\n",
      "Epoch 238/250\n",
      "21/21 [==============================] - 0s 3ms/step - loss: 78.0224\n",
      "Epoch 239/250\n",
      "21/21 [==============================] - 0s 2ms/step - loss: 80.5228\n",
      "Epoch 240/250\n",
      "21/21 [==============================] - 0s 3ms/step - loss: 83.4780\n",
      "Epoch 241/250\n",
      "21/21 [==============================] - 0s 3ms/step - loss: 77.2634\n",
      "Epoch 242/250\n",
      "21/21 [==============================] - 0s 3ms/step - loss: 84.2336\n",
      "Epoch 243/250\n",
      "21/21 [==============================] - 0s 3ms/step - loss: 77.4150\n",
      "Epoch 244/250\n",
      "21/21 [==============================] - 0s 3ms/step - loss: 80.0833\n",
      "Epoch 245/250\n",
      "21/21 [==============================] - 0s 3ms/step - loss: 83.0046\n",
      "Epoch 246/250\n",
      "21/21 [==============================] - 0s 3ms/step - loss: 81.9379\n",
      "Epoch 247/250\n",
      "21/21 [==============================] - 0s 3ms/step - loss: 77.6881\n",
      "Epoch 248/250\n",
      "21/21 [==============================] - 0s 3ms/step - loss: 78.3522\n",
      "Epoch 249/250\n",
      "21/21 [==============================] - 0s 3ms/step - loss: 78.8975\n",
      "Epoch 250/250\n",
      "21/21 [==============================] - 0s 3ms/step - loss: 78.0970\n"
     ]
    },
    {
     "data": {
      "text/plain": [
       "<keras.callbacks.History at 0x2c6c3914400>"
      ]
     },
     "execution_count": 44,
     "metadata": {},
     "output_type": "execute_result"
    }
   ],
   "source": [
    "model.fit(x_train,y_train,epochs=250)"
   ]
  },
  {
   "cell_type": "code",
   "execution_count": 48,
   "metadata": {},
   "outputs": [],
   "source": [
    "loss = model.history.history[\"loss\"] ## loss azaldıkça, doğruluk artar, o yüzden azalmasını bekleriz"
   ]
  },
  {
   "cell_type": "code",
   "execution_count": 49,
   "metadata": {},
   "outputs": [
    {
     "data": {
      "text/plain": [
       "<AxesSubplot:>"
      ]
     },
     "execution_count": 49,
     "metadata": {},
     "output_type": "execute_result"
    },
    {
     "data": {
      "image/png": "[encoded data removed]",
      "text/plain": [
       "<Figure size 432x288 with 1 Axes>"
      ]
     },
     "metadata": {
      "needs_background": "light"
     },
     "output_type": "display_data"
    }
   ],
   "source": [
    "sbn.lineplot(x=range(len(loss)),y = loss)"
   ]
  },
  {
   "cell_type": "code",
   "execution_count": 55,
   "metadata": {},
   "outputs": [
    {
     "data": {
      "text/plain": [
       "75.40058135986328"
      ]
     },
     "execution_count": 55,
     "metadata": {},
     "output_type": "execute_result"
    }
   ],
   "source": [
    "trainLoss = model.evaluate(x_train,y_train,verbose = 0)\n",
    "trainLoss"
   ]
  },
  {
   "cell_type": "code",
   "execution_count": 56,
   "metadata": {},
   "outputs": [
    {
     "data": {
      "text/plain": [
       "83.96971130371094"
      ]
     },
     "execution_count": 56,
     "metadata": {},
     "output_type": "execute_result"
    }
   ],
   "source": [
    "testLoss = model.evaluate(x_test,y_test,verbose=0)\n",
    "testLoss"
   ]
  },
  {
   "cell_type": "markdown",
   "metadata": {},
   "source": [
    "## test tahminleri "
   ]
  },
  {
   "cell_type": "code",
   "execution_count": 57,
   "metadata": {},
   "outputs": [
    {
     "name": "stdout",
     "output_type": "stream",
     "text": [
      "11/11 [==============================] - 0s 2ms/step\n"
     ]
    }
   ],
   "source": [
    "testTahmin = model.predict(x_test)"
   ]
  },
  {
   "cell_type": "code",
   "execution_count": 59,
   "metadata": {},
   "outputs": [
    {
     "data": {
      "text/plain": [
       "array([[1076.0176 ],\n",
       "       [ 622.5019 ],\n",
       "       [ 874.5291 ],\n",
       "       [ 892.64056],\n",
       "       [ 897.89856],\n",
       "       [ 450.4079 ],\n",
       "       [ 929.5062 ],\n",
       "       [ 989.73987],\n",
       "       [ 939.5438 ],\n",
       "       [1015.06006],\n",
       "       [ 749.4829 ],\n",
       "       [ 916.2372 ],\n",
       "       [ 945.86163],\n",
       "       [1052.9407 ],\n",
       "       [1119.6223 ],\n",
       "       [ 680.1928 ],\n",
       "       [1125.157  ],\n",
       "       [ 649.60474],\n",
       "       [1152.7568 ],\n",
       "       [ 884.9494 ],\n",
       "       [ 891.2216 ],\n",
       "       [ 715.35547],\n",
       "       [ 455.7027 ],\n",
       "       [ 610.73395],\n",
       "       [ 833.46124],\n",
       "       [1089.4094 ],\n",
       "       [ 712.37244],\n",
       "       [ 755.43634],\n",
       "       [ 871.90643],\n",
       "       [ 769.15546],\n",
       "       [ 450.14423],\n",
       "       [ 781.5703 ],\n",
       "       [ 726.8598 ],\n",
       "       [ 645.4754 ],\n",
       "       [ 885.14484],\n",
       "       [ 842.25824],\n",
       "       [1033.9949 ],\n",
       "       [1021.092  ],\n",
       "       [ 843.37885],\n",
       "       [ 860.66266],\n",
       "       [ 755.68567],\n",
       "       [1172.7205 ],\n",
       "       [1095.8153 ],\n",
       "       [1086.0305 ],\n",
       "       [ 871.5797 ],\n",
       "       [ 595.3306 ],\n",
       "       [1143.9272 ],\n",
       "       [ 971.4895 ],\n",
       "       [1039.9985 ],\n",
       "       [ 856.5053 ],\n",
       "       [ 802.3846 ],\n",
       "       [ 857.6386 ],\n",
       "       [ 793.0359 ],\n",
       "       [1009.8302 ],\n",
       "       [1033.1696 ],\n",
       "       [ 932.8527 ],\n",
       "       [ 944.9285 ],\n",
       "       [1073.8967 ],\n",
       "       [ 883.59515],\n",
       "       [1009.007  ],\n",
       "       [ 785.79877],\n",
       "       [ 848.83685],\n",
       "       [ 724.28314],\n",
       "       [ 892.3393 ],\n",
       "       [ 969.34125],\n",
       "       [ 698.85175],\n",
       "       [ 794.4172 ],\n",
       "       [ 806.44293],\n",
       "       [ 856.5582 ],\n",
       "       [ 825.46295],\n",
       "       [ 800.98157],\n",
       "       [ 937.62976],\n",
       "       [1057.8289 ],\n",
       "       [ 944.49347],\n",
       "       [ 987.9837 ],\n",
       "       [ 665.9853 ],\n",
       "       [ 637.91895],\n",
       "       [ 697.03143],\n",
       "       [ 877.55475],\n",
       "       [ 906.1816 ],\n",
       "       [ 979.6694 ],\n",
       "       [ 987.3104 ],\n",
       "       [ 611.7624 ],\n",
       "       [ 861.3707 ],\n",
       "       [ 621.78503],\n",
       "       [ 957.5067 ],\n",
       "       [ 827.4113 ],\n",
       "       [ 894.70636],\n",
       "       [ 873.2513 ],\n",
       "       [ 630.81116],\n",
       "       [ 795.18024],\n",
       "       [ 708.26025],\n",
       "       [1193.0175 ],\n",
       "       [ 891.56696],\n",
       "       [ 828.77985],\n",
       "       [1099.5173 ],\n",
       "       [ 852.2718 ],\n",
       "       [ 964.311  ],\n",
       "       [ 964.47766],\n",
       "       [ 437.4296 ],\n",
       "       [ 986.2734 ],\n",
       "       [1061.4504 ],\n",
       "       [ 879.0926 ],\n",
       "       [1054.0264 ],\n",
       "       [ 560.94904],\n",
       "       [ 662.3969 ],\n",
       "       [ 856.2278 ],\n",
       "       [ 710.2217 ],\n",
       "       [ 918.7378 ],\n",
       "       [ 924.5749 ],\n",
       "       [ 718.5516 ],\n",
       "       [ 882.6692 ],\n",
       "       [ 978.88965],\n",
       "       [1060.812  ],\n",
       "       [ 690.3846 ],\n",
       "       [ 905.72394],\n",
       "       [ 854.62067],\n",
       "       [ 865.6257 ],\n",
       "       [1030.4725 ],\n",
       "       [ 784.5214 ],\n",
       "       [ 711.54877],\n",
       "       [ 858.7679 ],\n",
       "       [1129.1459 ],\n",
       "       [ 798.7759 ],\n",
       "       [ 822.94037],\n",
       "       [ 896.2845 ],\n",
       "       [ 773.7944 ],\n",
       "       [ 931.19977],\n",
       "       [ 962.0571 ],\n",
       "       [ 920.47174],\n",
       "       [ 945.1999 ],\n",
       "       [1096.4407 ],\n",
       "       [1029.9891 ],\n",
       "       [ 799.62286],\n",
       "       [ 754.585  ],\n",
       "       [ 770.45   ],\n",
       "       [ 734.88165],\n",
       "       [ 738.36395],\n",
       "       [ 675.53217],\n",
       "       [1134.9705 ],\n",
       "       [ 648.075  ],\n",
       "       [ 979.6105 ],\n",
       "       [ 706.078  ],\n",
       "       [ 893.29614],\n",
       "       [ 986.2941 ],\n",
       "       [ 604.2298 ],\n",
       "       [ 739.7673 ],\n",
       "       [ 784.8133 ],\n",
       "       [ 866.5289 ],\n",
       "       [ 744.8025 ],\n",
       "       [ 555.7675 ],\n",
       "       [ 634.6733 ],\n",
       "       [ 730.69403],\n",
       "       [1053.5618 ],\n",
       "       [1109.6039 ],\n",
       "       [ 899.9985 ],\n",
       "       [ 713.36597],\n",
       "       [ 788.4526 ],\n",
       "       [ 877.18744],\n",
       "       [ 954.37604],\n",
       "       [ 599.2885 ],\n",
       "       [ 849.50116],\n",
       "       [ 880.40814],\n",
       "       [ 631.76324],\n",
       "       [ 916.02325],\n",
       "       [ 996.8133 ],\n",
       "       [1184.0463 ],\n",
       "       [ 802.94073],\n",
       "       [ 738.61554],\n",
       "       [ 959.9076 ],\n",
       "       [ 714.207  ],\n",
       "       [1012.9635 ],\n",
       "       [1225.0814 ],\n",
       "       [ 899.0158 ],\n",
       "       [ 879.7293 ],\n",
       "       [ 648.0573 ],\n",
       "       [ 608.94214],\n",
       "       [ 740.8906 ],\n",
       "       [ 961.52386],\n",
       "       [ 697.9677 ],\n",
       "       [ 763.64136],\n",
       "       [ 814.0435 ],\n",
       "       [ 690.86566],\n",
       "       [ 920.0599 ],\n",
       "       [ 870.9532 ],\n",
       "       [ 610.8702 ],\n",
       "       [1061.311  ],\n",
       "       [ 944.5295 ],\n",
       "       [1148.4358 ],\n",
       "       [ 784.67957],\n",
       "       [ 878.1519 ],\n",
       "       [ 656.0108 ],\n",
       "       [ 666.5222 ],\n",
       "       [ 732.5071 ],\n",
       "       [ 681.2896 ],\n",
       "       [1079.3022 ],\n",
       "       [ 784.0158 ],\n",
       "       [ 854.9988 ],\n",
       "       [1143.1443 ],\n",
       "       [ 583.8696 ],\n",
       "       [ 955.5712 ],\n",
       "       [ 660.1656 ],\n",
       "       [ 568.61145],\n",
       "       [ 748.0012 ],\n",
       "       [ 594.5129 ],\n",
       "       [1003.31287],\n",
       "       [1031.6351 ],\n",
       "       [ 630.5008 ],\n",
       "       [ 936.87714],\n",
       "       [ 826.62994],\n",
       "       [1132.7805 ],\n",
       "       [ 916.6121 ],\n",
       "       [ 885.18   ],\n",
       "       [ 975.84064],\n",
       "       [1034.7589 ],\n",
       "       [ 876.9003 ],\n",
       "       [ 850.3535 ],\n",
       "       [ 836.0136 ],\n",
       "       [ 651.8276 ],\n",
       "       [1347.0854 ],\n",
       "       [ 923.59875],\n",
       "       [ 531.3206 ],\n",
       "       [ 794.9653 ],\n",
       "       [ 989.70715],\n",
       "       [ 854.19684],\n",
       "       [ 790.96735],\n",
       "       [ 677.71625],\n",
       "       [ 787.679  ],\n",
       "       [ 971.37665],\n",
       "       [ 917.369  ],\n",
       "       [ 996.71967],\n",
       "       [ 943.61017],\n",
       "       [ 903.4821 ],\n",
       "       [ 741.8048 ],\n",
       "       [1058.53   ],\n",
       "       [1138.0663 ],\n",
       "       [1009.6468 ],\n",
       "       [1012.243  ],\n",
       "       [ 994.2907 ],\n",
       "       [ 850.4154 ],\n",
       "       [1008.2265 ],\n",
       "       [ 625.58356],\n",
       "       [ 893.62177],\n",
       "       [1065.6064 ],\n",
       "       [ 780.2292 ],\n",
       "       [ 566.7649 ],\n",
       "       [ 605.8088 ],\n",
       "       [ 989.39825],\n",
       "       [ 876.71423],\n",
       "       [1068.7788 ],\n",
       "       [ 845.5479 ],\n",
       "       [ 742.54205],\n",
       "       [ 542.0156 ],\n",
       "       [ 871.36163],\n",
       "       [ 778.736  ],\n",
       "       [ 849.5253 ],\n",
       "       [ 886.5262 ],\n",
       "       [ 908.8079 ],\n",
       "       [ 616.38696],\n",
       "       [1019.08124],\n",
       "       [ 627.52325],\n",
       "       [ 883.0024 ],\n",
       "       [ 795.56976],\n",
       "       [ 914.9777 ],\n",
       "       [ 965.43256],\n",
       "       [ 786.37616],\n",
       "       [ 876.9592 ],\n",
       "       [1156.5417 ],\n",
       "       [1007.3149 ],\n",
       "       [ 847.22705],\n",
       "       [1081.5739 ],\n",
       "       [ 995.45514],\n",
       "       [ 583.1359 ],\n",
       "       [ 544.2459 ],\n",
       "       [ 972.84625],\n",
       "       [1045.156  ],\n",
       "       [ 946.67926],\n",
       "       [ 902.7005 ],\n",
       "       [ 400.99976],\n",
       "       [1016.46967],\n",
       "       [ 915.10455],\n",
       "       [ 818.31476],\n",
       "       [ 933.39374],\n",
       "       [ 926.24896],\n",
       "       [ 985.62384],\n",
       "       [ 971.6274 ],\n",
       "       [ 962.0324 ],\n",
       "       [ 614.2851 ],\n",
       "       [ 968.6866 ],\n",
       "       [ 976.4175 ],\n",
       "       [ 880.2657 ],\n",
       "       [ 854.0365 ],\n",
       "       [ 731.7107 ],\n",
       "       [ 946.1725 ],\n",
       "       [ 887.4209 ],\n",
       "       [ 805.2824 ],\n",
       "       [ 968.1472 ],\n",
       "       [ 832.1022 ],\n",
       "       [1011.7901 ],\n",
       "       [ 604.9705 ],\n",
       "       [ 571.44794],\n",
       "       [ 720.0405 ],\n",
       "       [ 803.95233],\n",
       "       [ 885.5954 ],\n",
       "       [1220.4731 ],\n",
       "       [ 607.5845 ],\n",
       "       [1037.8152 ],\n",
       "       [ 663.44214],\n",
       "       [1126.0844 ],\n",
       "       [ 798.85315],\n",
       "       [1211.3159 ],\n",
       "       [ 785.73956],\n",
       "       [ 642.0902 ],\n",
       "       [ 891.4395 ],\n",
       "       [ 921.4499 ],\n",
       "       [ 842.7504 ],\n",
       "       [ 667.0068 ],\n",
       "       [ 988.0619 ],\n",
       "       [1089.3315 ],\n",
       "       [ 772.73627],\n",
       "       [ 895.5035 ],\n",
       "       [1055.9897 ],\n",
       "       [ 977.02716],\n",
       "       [ 708.8908 ],\n",
       "       [ 605.1121 ],\n",
       "       [1011.8412 ],\n",
       "       [ 789.33057],\n",
       "       [ 764.4928 ],\n",
       "       [1165.7203 ],\n",
       "       [ 801.26154]], dtype=float32)"
      ]
     },
     "execution_count": 59,
     "metadata": {},
     "output_type": "execute_result"
    }
   ],
   "source": [
    "testTahmin"
   ]
  },
  {
   "cell_type": "code",
   "execution_count": 60,
   "metadata": {},
   "outputs": [],
   "source": [
    "tahminDF = pd.DataFrame(y_test,columns = [\"Gerçek Y\"])"
   ]
  },
  {
   "cell_type": "code",
   "execution_count": 61,
   "metadata": {},
   "outputs": [
    {
     "data": {
      "text/html": [
       "<div>\n",
       "<style scoped>\n",
       "    .dataframe tbody tr th:only-of-type {\n",
       "        vertical-align: middle;\n",
       "    }\n",
       "\n",
       "    .dataframe tbody tr th {\n",
       "        vertical-align: top;\n",
       "    }\n",
       "\n",
       "    .dataframe thead th {\n",
       "        text-align: right;\n",
       "    }\n",
       "</style>\n",
       "<table border=\"1\" class=\"dataframe\">\n",
       "  <thead>\n",
       "    <tr style=\"text-align: right;\">\n",
       "      <th></th>\n",
       "      <th>Gerçek Y</th>\n",
       "    </tr>\n",
       "  </thead>\n",
       "  <tbody>\n",
       "    <tr>\n",
       "      <th>0</th>\n",
       "      <td>1081.652164</td>\n",
       "    </tr>\n",
       "    <tr>\n",
       "      <th>1</th>\n",
       "      <td>622.675990</td>\n",
       "    </tr>\n",
       "    <tr>\n",
       "      <th>2</th>\n",
       "      <td>889.356810</td>\n",
       "    </tr>\n",
       "    <tr>\n",
       "      <th>3</th>\n",
       "      <td>902.826733</td>\n",
       "    </tr>\n",
       "    <tr>\n",
       "      <th>4</th>\n",
       "      <td>897.662404</td>\n",
       "    </tr>\n",
       "    <tr>\n",
       "      <th>...</th>\n",
       "      <td>...</td>\n",
       "    </tr>\n",
       "    <tr>\n",
       "      <th>325</th>\n",
       "      <td>1028.438035</td>\n",
       "    </tr>\n",
       "    <tr>\n",
       "      <th>326</th>\n",
       "      <td>789.934950</td>\n",
       "    </tr>\n",
       "    <tr>\n",
       "      <th>327</th>\n",
       "      <td>758.490486</td>\n",
       "    </tr>\n",
       "    <tr>\n",
       "      <th>328</th>\n",
       "      <td>1172.871659</td>\n",
       "    </tr>\n",
       "    <tr>\n",
       "      <th>329</th>\n",
       "      <td>820.947936</td>\n",
       "    </tr>\n",
       "  </tbody>\n",
       "</table>\n",
       "<p>330 rows × 1 columns</p>\n",
       "</div>"
      ],
      "text/plain": [
       "        Gerçek Y\n",
       "0    1081.652164\n",
       "1     622.675990\n",
       "2     889.356810\n",
       "3     902.826733\n",
       "4     897.662404\n",
       "..           ...\n",
       "325  1028.438035\n",
       "326   789.934950\n",
       "327   758.490486\n",
       "328  1172.871659\n",
       "329   820.947936\n",
       "\n",
       "[330 rows x 1 columns]"
      ]
     },
     "execution_count": 61,
     "metadata": {},
     "output_type": "execute_result"
    }
   ],
   "source": [
    "tahminDF"
   ]
  },
  {
   "cell_type": "code",
   "execution_count": 62,
   "metadata": {},
   "outputs": [],
   "source": [
    "# test tahminleri array halinde, dfyle birleştirmek için series e dönüştürmemiz gerek"
   ]
  },
  {
   "cell_type": "code",
   "execution_count": 64,
   "metadata": {},
   "outputs": [],
   "source": [
    "testTahmin = pd.Series(testTahmin.reshape(330,))"
   ]
  },
  {
   "cell_type": "code",
   "execution_count": 65,
   "metadata": {},
   "outputs": [
    {
     "data": {
      "text/plain": [
       "0      1076.017578\n",
       "1       622.501892\n",
       "2       874.529114\n",
       "3       892.640564\n",
       "4       897.898560\n",
       "          ...     \n",
       "325    1011.841187\n",
       "326     789.330566\n",
       "327     764.492798\n",
       "328    1165.720337\n",
       "329     801.261536\n",
       "Length: 330, dtype: float32"
      ]
     },
     "execution_count": 65,
     "metadata": {},
     "output_type": "execute_result"
    }
   ],
   "source": [
    "testTahmin"
   ]
  },
  {
   "cell_type": "code",
   "execution_count": 66,
   "metadata": {},
   "outputs": [],
   "source": [
    "df = pd.concat([tahminDF,testTahmin],axis = 1)"
   ]
  },
  {
   "cell_type": "code",
   "execution_count": 67,
   "metadata": {},
   "outputs": [
    {
     "data": {
      "text/html": [
       "<div>\n",
       "<style scoped>\n",
       "    .dataframe tbody tr th:only-of-type {\n",
       "        vertical-align: middle;\n",
       "    }\n",
       "\n",
       "    .dataframe tbody tr th {\n",
       "        vertical-align: top;\n",
       "    }\n",
       "\n",
       "    .dataframe thead th {\n",
       "        text-align: right;\n",
       "    }\n",
       "</style>\n",
       "<table border=\"1\" class=\"dataframe\">\n",
       "  <thead>\n",
       "    <tr style=\"text-align: right;\">\n",
       "      <th></th>\n",
       "      <th>Gerçek Y</th>\n",
       "      <th>0</th>\n",
       "    </tr>\n",
       "  </thead>\n",
       "  <tbody>\n",
       "    <tr>\n",
       "      <th>0</th>\n",
       "      <td>1081.652164</td>\n",
       "      <td>1076.017578</td>\n",
       "    </tr>\n",
       "    <tr>\n",
       "      <th>1</th>\n",
       "      <td>622.675990</td>\n",
       "      <td>622.501892</td>\n",
       "    </tr>\n",
       "    <tr>\n",
       "      <th>2</th>\n",
       "      <td>889.356810</td>\n",
       "      <td>874.529114</td>\n",
       "    </tr>\n",
       "    <tr>\n",
       "      <th>3</th>\n",
       "      <td>902.826733</td>\n",
       "      <td>892.640564</td>\n",
       "    </tr>\n",
       "    <tr>\n",
       "      <th>4</th>\n",
       "      <td>897.662404</td>\n",
       "      <td>897.898560</td>\n",
       "    </tr>\n",
       "    <tr>\n",
       "      <th>...</th>\n",
       "      <td>...</td>\n",
       "      <td>...</td>\n",
       "    </tr>\n",
       "    <tr>\n",
       "      <th>325</th>\n",
       "      <td>1028.438035</td>\n",
       "      <td>1011.841187</td>\n",
       "    </tr>\n",
       "    <tr>\n",
       "      <th>326</th>\n",
       "      <td>789.934950</td>\n",
       "      <td>789.330566</td>\n",
       "    </tr>\n",
       "    <tr>\n",
       "      <th>327</th>\n",
       "      <td>758.490486</td>\n",
       "      <td>764.492798</td>\n",
       "    </tr>\n",
       "    <tr>\n",
       "      <th>328</th>\n",
       "      <td>1172.871659</td>\n",
       "      <td>1165.720337</td>\n",
       "    </tr>\n",
       "    <tr>\n",
       "      <th>329</th>\n",
       "      <td>820.947936</td>\n",
       "      <td>801.261536</td>\n",
       "    </tr>\n",
       "  </tbody>\n",
       "</table>\n",
       "<p>330 rows × 2 columns</p>\n",
       "</div>"
      ],
      "text/plain": [
       "        Gerçek Y            0\n",
       "0    1081.652164  1076.017578\n",
       "1     622.675990   622.501892\n",
       "2     889.356810   874.529114\n",
       "3     902.826733   892.640564\n",
       "4     897.662404   897.898560\n",
       "..           ...          ...\n",
       "325  1028.438035  1011.841187\n",
       "326   789.934950   789.330566\n",
       "327   758.490486   764.492798\n",
       "328  1172.871659  1165.720337\n",
       "329   820.947936   801.261536\n",
       "\n",
       "[330 rows x 2 columns]"
      ]
     },
     "execution_count": 67,
     "metadata": {},
     "output_type": "execute_result"
    }
   ],
   "source": [
    "df"
   ]
  },
  {
   "cell_type": "code",
   "execution_count": 70,
   "metadata": {},
   "outputs": [],
   "source": [
    "df.columns = [\"Asıl Y\",\"Tahmin Y\"]"
   ]
  },
  {
   "cell_type": "code",
   "execution_count": 71,
   "metadata": {},
   "outputs": [
    {
     "data": {
      "text/html": [
       "<div>\n",
       "<style scoped>\n",
       "    .dataframe tbody tr th:only-of-type {\n",
       "        vertical-align: middle;\n",
       "    }\n",
       "\n",
       "    .dataframe tbody tr th {\n",
       "        vertical-align: top;\n",
       "    }\n",
       "\n",
       "    .dataframe thead th {\n",
       "        text-align: right;\n",
       "    }\n",
       "</style>\n",
       "<table border=\"1\" class=\"dataframe\">\n",
       "  <thead>\n",
       "    <tr style=\"text-align: right;\">\n",
       "      <th></th>\n",
       "      <th>Asıl Y</th>\n",
       "      <th>Tahmin Y</th>\n",
       "    </tr>\n",
       "  </thead>\n",
       "  <tbody>\n",
       "    <tr>\n",
       "      <th>0</th>\n",
       "      <td>1081.652164</td>\n",
       "      <td>1076.017578</td>\n",
       "    </tr>\n",
       "    <tr>\n",
       "      <th>1</th>\n",
       "      <td>622.675990</td>\n",
       "      <td>622.501892</td>\n",
       "    </tr>\n",
       "    <tr>\n",
       "      <th>2</th>\n",
       "      <td>889.356810</td>\n",
       "      <td>874.529114</td>\n",
       "    </tr>\n",
       "    <tr>\n",
       "      <th>3</th>\n",
       "      <td>902.826733</td>\n",
       "      <td>892.640564</td>\n",
       "    </tr>\n",
       "    <tr>\n",
       "      <th>4</th>\n",
       "      <td>897.662404</td>\n",
       "      <td>897.898560</td>\n",
       "    </tr>\n",
       "    <tr>\n",
       "      <th>...</th>\n",
       "      <td>...</td>\n",
       "      <td>...</td>\n",
       "    </tr>\n",
       "    <tr>\n",
       "      <th>325</th>\n",
       "      <td>1028.438035</td>\n",
       "      <td>1011.841187</td>\n",
       "    </tr>\n",
       "    <tr>\n",
       "      <th>326</th>\n",
       "      <td>789.934950</td>\n",
       "      <td>789.330566</td>\n",
       "    </tr>\n",
       "    <tr>\n",
       "      <th>327</th>\n",
       "      <td>758.490486</td>\n",
       "      <td>764.492798</td>\n",
       "    </tr>\n",
       "    <tr>\n",
       "      <th>328</th>\n",
       "      <td>1172.871659</td>\n",
       "      <td>1165.720337</td>\n",
       "    </tr>\n",
       "    <tr>\n",
       "      <th>329</th>\n",
       "      <td>820.947936</td>\n",
       "      <td>801.261536</td>\n",
       "    </tr>\n",
       "  </tbody>\n",
       "</table>\n",
       "<p>330 rows × 2 columns</p>\n",
       "</div>"
      ],
      "text/plain": [
       "          Asıl Y     Tahmin Y\n",
       "0    1081.652164  1076.017578\n",
       "1     622.675990   622.501892\n",
       "2     889.356810   874.529114\n",
       "3     902.826733   892.640564\n",
       "4     897.662404   897.898560\n",
       "..           ...          ...\n",
       "325  1028.438035  1011.841187\n",
       "326   789.934950   789.330566\n",
       "327   758.490486   764.492798\n",
       "328  1172.871659  1165.720337\n",
       "329   820.947936   801.261536\n",
       "\n",
       "[330 rows x 2 columns]"
      ]
     },
     "execution_count": 71,
     "metadata": {},
     "output_type": "execute_result"
    }
   ],
   "source": [
    "df"
   ]
  },
  {
   "cell_type": "code",
   "execution_count": 72,
   "metadata": {},
   "outputs": [
    {
     "data": {
      "text/plain": [
       "<AxesSubplot:xlabel='Asıl Y', ylabel='Tahmin Y'>"
      ]
     },
     "execution_count": 72,
     "metadata": {},
     "output_type": "execute_result"
    },
    {
     "data": {
      "image/png": "[encoded data removed]",
      "text/plain": [
       "<Figure size 432x288 with 1 Axes>"
      ]
     },
     "metadata": {
      "needs_background": "light"
     },
     "output_type": "display_data"
    }
   ],
   "source": [
    "sbn.scatterplot(x = \"Asıl Y\" , y=\"Tahmin Y\", data = df)"
   ]
  },
  {
   "cell_type": "code",
   "execution_count": 73,
   "metadata": {},
   "outputs": [],
   "source": [
    "# hataların absolute değerini aldıımızda, sapma için bir öngörü yapılabilir"
   ]
  },
  {
   "cell_type": "code",
   "execution_count": 74,
   "metadata": {},
   "outputs": [],
   "source": [
    "from sklearn.metrics import mean_absolute_error, mean_squared_error"
   ]
  },
  {
   "cell_type": "code",
   "execution_count": 75,
   "metadata": {},
   "outputs": [
    {
     "data": {
      "text/plain": [
       "7.353782859449572"
      ]
     },
     "execution_count": 75,
     "metadata": {},
     "output_type": "execute_result"
    }
   ],
   "source": [
    "mean_absolute_error(df[\"Asıl Y\"],df[\"Tahmin Y\"])"
   ]
  },
  {
   "cell_type": "code",
   "execution_count": 76,
   "metadata": {},
   "outputs": [],
   "source": [
    "#ortalaması 870 lira olan fiyatlarda, 7 lira sapma önemsiz görülebilir"
   ]
  },
  {
   "cell_type": "code",
   "execution_count": 77,
   "metadata": {},
   "outputs": [],
   "source": [
    "yeniBisOzellik = [[1760,1758]]"
   ]
  },
  {
   "cell_type": "code",
   "execution_count": 78,
   "metadata": {},
   "outputs": [],
   "source": [
    "yeniBisOz = scaler.transform(yeniBisOzellik)"
   ]
  },
  {
   "cell_type": "code",
   "execution_count": 79,
   "metadata": {},
   "outputs": [
    {
     "name": "stdout",
     "output_type": "stream",
     "text": [
      "1/1 [==============================] - 0s 21ms/step\n"
     ]
    },
    {
     "data": {
      "text/plain": [
       "array([[1981.0586]], dtype=float32)"
      ]
     },
     "execution_count": 79,
     "metadata": {},
     "output_type": "execute_result"
    }
   ],
   "source": [
    "model.predict(yeniBisOz)"
   ]
  },
  {
   "cell_type": "code",
   "execution_count": 80,
   "metadata": {},
   "outputs": [],
   "source": [
    "# model kaydetme"
   ]
  },
  {
   "cell_type": "code",
   "execution_count": 81,
   "metadata": {},
   "outputs": [],
   "source": [
    "from tensorflow.keras.models import load_model"
   ]
  },
  {
   "cell_type": "code",
   "execution_count": 82,
   "metadata": {},
   "outputs": [],
   "source": [
    "model.save(\"bisiklet_modeli.h5\")"
   ]
  },
  {
   "cell_type": "code",
   "execution_count": 83,
   "metadata": {},
   "outputs": [],
   "source": [
    "modelCagir = load_model(\"bisiklet_modeli.h5\")"
   ]
  },
  {
   "cell_type": "code",
   "execution_count": 84,
   "metadata": {},
   "outputs": [],
   "source": [
    "# modeller h5 ile kaydedilir"
   ]
  },
  {
   "cell_type": "code",
   "execution_count": null,
   "metadata": {},
   "outputs": [],
   "source": []
  }
 ],
 "metadata": {
  "kernelspec": {
   "display_name": "Python 3",
   "language": "python",
   "name": "python3"
  },
  "language_info": {
   "codemirror_mode": {
    "name": "ipython",
    "version": 3
   },
   "file_extension": ".py",
   "mimetype": "text/x-python",
   "name": "python",
   "nbconvert_exporter": "python",
   "pygments_lexer": "ipython3",
   "version": "3.8.5"
  }
 },
 "nbformat": 4,
 "nbformat_minor": 4
}
