{
 "cells": [
  {
   "cell_type": "code",
   "execution_count": 6,
   "metadata": {},
   "outputs": [],
   "source": [
    "x = 0 "
   ]
  },
  {
   "cell_type": "code",
   "execution_count": 7,
   "metadata": {},
   "outputs": [
    {
     "name": "stdout",
     "output_type": "stream",
     "text": [
      "0\n",
      "1\n",
      "2\n",
      "3\n",
      "4\n",
      "5\n",
      "6\n",
      "7\n",
      "8\n",
      "9\n"
     ]
    }
   ],
   "source": [
    "while x < 10 :\n",
    "    print(x)\n",
    "    x = x+1 # x = 10 olana kadar döndür "
   ]
  },
  {
   "cell_type": "code",
   "execution_count": 8,
   "metadata": {},
   "outputs": [],
   "source": [
    "listem = [1,2,3,4,5]"
   ]
  },
  {
   "cell_type": "code",
   "execution_count": 9,
   "metadata": {},
   "outputs": [
    {
     "data": {
      "text/plain": [
       "5"
      ]
     },
     "execution_count": 9,
     "metadata": {},
     "output_type": "execute_result"
    }
   ],
   "source": [
    "listem.pop()"
   ]
  },
  {
   "cell_type": "code",
   "execution_count": 10,
   "metadata": {},
   "outputs": [
    {
     "data": {
      "text/plain": [
       "[1, 2, 3, 4]"
      ]
     },
     "execution_count": 10,
     "metadata": {},
     "output_type": "execute_result"
    }
   ],
   "source": [
    "listem"
   ]
  },
  {
   "cell_type": "code",
   "execution_count": 12,
   "metadata": {},
   "outputs": [],
   "source": [
    "listem.append(5)"
   ]
  },
  {
   "cell_type": "code",
   "execution_count": 14,
   "metadata": {},
   "outputs": [
    {
     "name": "stdout",
     "output_type": "stream",
     "text": [
      "3 hala listede\n",
      "3 hala listede\n",
      "3 hala listede\n"
     ]
    }
   ],
   "source": [
    "while 3 in listem: # 3 listenin içinde olduğu sürece çalışacak\n",
    "    print(\"3 hala listede\")\n",
    "    listem.pop()"
   ]
  },
  {
   "cell_type": "code",
   "execution_count": 15,
   "metadata": {},
   "outputs": [],
   "source": [
    "numara = 0"
   ]
  },
  {
   "cell_type": "code",
   "execution_count": 16,
   "metadata": {},
   "outputs": [
    {
     "name": "stdout",
     "output_type": "stream",
     "text": [
      "0\n",
      "1\n",
      "2\n",
      "3\n"
     ]
    }
   ],
   "source": [
    "while numara < 5 :\n",
    "    if numara == 4: #numara 4e eşit olunca bırak.\n",
    "        break\n",
    "    print(numara)\n",
    "    numara = numara+1"
   ]
  },
  {
   "cell_type": "code",
   "execution_count": 25,
   "metadata": {},
   "outputs": [],
   "source": [
    "yeniDegisken = 0 "
   ]
  },
  {
   "cell_type": "code",
   "execution_count": 20,
   "metadata": {},
   "outputs": [
    {
     "name": "stdout",
     "output_type": "stream",
     "text": [
      "yeni degişkenimiz : 0\n",
      "yeni degişkenimiz : 1\n",
      "yeni degişkenimiz : 2\n",
      "yeni degişkenimiz : 3\n",
      "yeni degişkenimiz : 4\n",
      "yeni degişkenimiz : 5\n",
      "yeni degişkenimiz : 6\n",
      "yeni degişkenimiz : 7\n",
      "yeni degişkenimiz : 8\n",
      "yeni degişkenimiz : 9\n",
      "yeni degişkenimiz : 10\n",
      "yeni degişkenimiz : 11\n",
      "yeni degişkenimiz : 12\n",
      "yeni degişkenimiz : 13\n",
      "yeni degişkenimiz : 14\n"
     ]
    }
   ],
   "source": [
    "while yeniDegisken < 15:\n",
    "    print(\"yeni degişkenimiz : \" + str(yeniDegisken))\n",
    "    yeniDegisken = yeniDegisken + 1\n",
    "    "
   ]
  },
  {
   "cell_type": "code",
   "execution_count": 26,
   "metadata": {},
   "outputs": [
    {
     "name": "stdout",
     "output_type": "stream",
     "text": [
      "yeni degiskenin güncewl degeri : 0\n",
      "yeni degiskenin güncewl degeri : 1\n",
      "yeni degiskenin güncewl degeri : 2\n",
      "yeni degiskenin güncewl degeri : 3\n",
      "yeni degiskenin güncewl degeri : 4\n",
      "yeni degiskenin güncewl degeri : 5\n",
      "yeni degiskenin güncewl degeri : 6\n",
      "yeni degiskenin güncewl degeri : 7\n",
      "yeni degiskenin güncewl degeri : 8\n",
      "yeni degiskenin güncewl degeri : 9\n",
      "yeni degiskenin güncewl degeri : 10\n",
      "yeni degiskenin güncewl degeri : 11\n",
      "yeni degiskenin güncewl degeri : 12\n",
      "yeni degiskenin güncewl degeri : 13\n",
      "yeni degiskenin güncewl degeri : 14\n"
     ]
    }
   ],
   "source": [
    "while yeniDegisken < 15:\n",
    "    print(f\"yeni degiskenin güncewl degeri : {yeniDegisken}\")\n",
    "    yeniDegisken = yeniDegisken + 1\n",
    "\n",
    "#f harfi ve değişkenin süslü parantez içinde yazmak, formatlama yapıyor, "
   ]
  },
  {
   "cell_type": "code",
   "execution_count": null,
   "metadata": {},
   "outputs": [],
   "source": []
  }
 ],
 "metadata": {
  "kernelspec": {
   "display_name": "Python 3",
   "language": "python",
   "name": "python3"
  },
  "language_info": {
   "codemirror_mode": {
    "name": "ipython",
    "version": 3
   },
   "file_extension": ".py",
   "mimetype": "text/x-python",
   "name": "python",
   "nbconvert_exporter": "python",
   "pygments_lexer": "ipython3",
   "version": "3.8.5"
  }
 },
 "nbformat": 4,
 "nbformat_minor": 4
}
