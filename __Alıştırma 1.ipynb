{
 "cells": [
  {
   "cell_type": "code",
   "execution_count": 6,
   "metadata": {},
   "outputs": [
    {
     "name": "stdout",
     "output_type": "stream",
     "text": [
      "lütfen adınızı giriniz :merve\n",
      "lütfen yasınızı giriniz :25\n",
      "100 yaşına geldiğinizde 2097 yılında olacağız \n"
     ]
    }
   ],
   "source": [
    "ad = input(\"lütfen adınızı giriniz :\")\n",
    "yas = input(\"lütfen yasınızı giriniz :\")\n",
    "hesaplama = 2022-int(yas)\n",
    "yıl = hesaplama+100\n",
    "def yılHesapla():\n",
    "    print(f\"100 yaşına geldiğinizde {yıl} yılında olacağız \")\n",
    "    \n",
    "yılHesapla()"
   ]
  },
  {
   "cell_type": "code",
   "execution_count": 13,
   "metadata": {},
   "outputs": [
    {
     "name": "stdout",
     "output_type": "stream",
     "text": [
      "lütfen isminizi giriniz : merve\n",
      "lütfen soyisminizi giriniz : payar\n",
      "merhaba merve payar\n",
      "vize notunuzu giriniz : 80\n",
      "final notunuzu giriniz : 80\n",
      "gecer notunuz :  80.0\n"
     ]
    }
   ],
   "source": [
    "ad = input(\"lütfen isminizi giriniz : \")\n",
    "soyisim = input(\"lütfen soyisminizi giriniz : \")\n",
    "print(\"merhaba\" + \" \"+ ad + \" \" + soyisim)\n",
    "\n",
    "vize = float(input(\"vize notunuzu giriniz : \"))\n",
    "final = float(input(\"final notunuzu giriniz : \"))\n",
    "\n",
    "gecerNot =(vize+final)/2\n",
    "\n",
    "print(\"gecer notunuz : \" ,gecerNot) ## stringe float eklerken ya da int eklerken \"+\" kullanılmıyor"
   ]
  },
  {
   "cell_type": "code",
   "execution_count": 14,
   "metadata": {},
   "outputs": [],
   "source": [
    "data = [3,5,7,23]"
   ]
  },
  {
   "cell_type": "code",
   "execution_count": 15,
   "metadata": {},
   "outputs": [
    {
     "data": {
      "text/plain": [
       "(3, 5, 7, 23)"
      ]
     },
     "execution_count": 15,
     "metadata": {},
     "output_type": "execute_result"
    }
   ],
   "source": [
    "tuple(data)"
   ]
  },
  {
   "cell_type": "code",
   "execution_count": 16,
   "metadata": {
    "collapsed": true
   },
   "outputs": [
    {
     "name": "stdout",
     "output_type": "stream",
     "text": [
      "2\n",
      "4\n",
      "6\n",
      "8\n",
      "10\n",
      "12\n",
      "14\n",
      "16\n",
      "18\n",
      "20\n",
      "22\n",
      "24\n",
      "26\n",
      "28\n",
      "30\n",
      "32\n",
      "34\n",
      "36\n",
      "38\n",
      "40\n",
      "42\n",
      "44\n",
      "46\n",
      "48\n",
      "50\n",
      "52\n",
      "54\n",
      "56\n",
      "58\n",
      "60\n",
      "62\n",
      "64\n",
      "66\n",
      "68\n",
      "70\n",
      "72\n",
      "74\n",
      "76\n",
      "78\n",
      "80\n",
      "82\n",
      "84\n",
      "86\n",
      "88\n",
      "90\n",
      "92\n",
      "94\n",
      "96\n",
      "98\n"
     ]
    }
   ],
   "source": [
    "for i in range(1,100):\n",
    "    if i%2 == 0 :\n",
    "        print(i)"
   ]
  },
  {
   "cell_type": "code",
   "execution_count": 17,
   "metadata": {},
   "outputs": [
    {
     "name": "stdout",
     "output_type": "stream",
     "text": [
      "lütfen sayı giriniz : 15\n",
      "[1, 2, 3, 4, 5, 6, 7, 8, 9, 10, 11, 12, 13, 14]\n"
     ]
    }
   ],
   "source": [
    "sayi = int(input(\"lütfen sayı giriniz : \"))\n",
    "print(list(range(1,sayi)))"
   ]
  },
  {
   "cell_type": "code",
   "execution_count": 19,
   "metadata": {},
   "outputs": [
    {
     "name": "stdout",
     "output_type": "stream",
     "text": [
      "lütfen sayı giriniz : 15\n",
      "lütfen sayı giriniz : 18\n",
      "girdiğiniz iki sayı arasındaki sayıların toplamı  48\n"
     ]
    }
   ],
   "source": [
    "# girilen iki sayı arasındaki sayıların toplamını gösteren fonksiyon \n",
    "\n",
    "toplam = 0;\n",
    "sayi1 = int(input(\"lütfen sayı giriniz : \"))\n",
    "sayi2 = int(input(\"lütfen sayı giriniz : \"))\n",
    "\n",
    "for i in range(sayi1,sayi2):\n",
    "    toplam += i \n",
    "print(\"girdiğiniz iki sayı arasındaki sayıların toplamı \", toplam)"
   ]
  },
  {
   "cell_type": "code",
   "execution_count": null,
   "metadata": {},
   "outputs": [],
   "source": []
  }
 ],
 "metadata": {
  "kernelspec": {
   "display_name": "Python 3",
   "language": "python",
   "name": "python3"
  },
  "language_info": {
   "codemirror_mode": {
    "name": "ipython",
    "version": 3
   },
   "file_extension": ".py",
   "mimetype": "text/x-python",
   "name": "python",
   "nbconvert_exporter": "python",
   "pygments_lexer": "ipython3",
   "version": "3.8.5"
  }
 },
 "nbformat": 4,
 "nbformat_minor": 4
}
