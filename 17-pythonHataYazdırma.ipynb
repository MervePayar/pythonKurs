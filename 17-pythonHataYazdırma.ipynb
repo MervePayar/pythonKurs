{
 "cells": [
  {
   "cell_type": "code",
   "execution_count": 1,
   "metadata": {},
   "outputs": [
    {
     "name": "stdout",
     "output_type": "stream",
     "text": [
      "ilk sayıyı giriniz  atıl\n"
     ]
    },
    {
     "ename": "ValueError",
     "evalue": "invalid literal for int() with base 10: 'atıl'",
     "output_type": "error",
     "traceback": [
      "\u001b[1;31m---------------------------------------------------------------------------\u001b[0m",
      "\u001b[1;31mValueError\u001b[0m                                Traceback (most recent call last)",
      "\u001b[1;32m<ipython-input-1-df325f00da3f>\u001b[0m in \u001b[0;36m<module>\u001b[1;34m\u001b[0m\n\u001b[0;32m      4\u001b[0m     \u001b[1;32melif\u001b[0m \u001b[0mislem\u001b[0m \u001b[1;33m==\u001b[0m\u001b[1;34m\"-\"\u001b[0m\u001b[1;33m:\u001b[0m\u001b[1;33m\u001b[0m\u001b[1;33m\u001b[0m\u001b[0m\n\u001b[0;32m      5\u001b[0m         \u001b[1;32mreturn\u001b[0m\u001b[1;33m(\u001b[0m\u001b[0mstr\u001b[0m\u001b[1;33m(\u001b[0m\u001b[0ma\u001b[0m\u001b[1;33m)\u001b[0m\u001b[1;33m+\u001b[0m \u001b[1;34m\" - \"\u001b[0m\u001b[1;33m+\u001b[0m\u001b[0mstr\u001b[0m\u001b[1;33m(\u001b[0m\u001b[0mb\u001b[0m\u001b[1;33m)\u001b[0m\u001b[1;33m+\u001b[0m\u001b[1;34m\" = \"\u001b[0m \u001b[1;33m+\u001b[0m \u001b[0mstr\u001b[0m\u001b[1;33m(\u001b[0m\u001b[0ma\u001b[0m\u001b[1;33m-\u001b[0m\u001b[0mb\u001b[0m\u001b[1;33m)\u001b[0m\u001b[1;33m)\u001b[0m\u001b[1;33m\u001b[0m\u001b[1;33m\u001b[0m\u001b[0m\n\u001b[1;32m----> 6\u001b[1;33m \u001b[0ma\u001b[0m \u001b[1;33m=\u001b[0m \u001b[0mint\u001b[0m\u001b[1;33m(\u001b[0m\u001b[0minput\u001b[0m\u001b[1;33m(\u001b[0m\u001b[1;34m\"ilk sayıyı giriniz  \"\u001b[0m\u001b[1;33m)\u001b[0m\u001b[1;33m)\u001b[0m\u001b[1;33m\u001b[0m\u001b[1;33m\u001b[0m\u001b[0m\n\u001b[0m\u001b[0;32m      7\u001b[0m \u001b[0mb\u001b[0m \u001b[1;33m=\u001b[0m \u001b[0mint\u001b[0m\u001b[1;33m(\u001b[0m\u001b[0minput\u001b[0m\u001b[1;33m(\u001b[0m\u001b[1;34m\"ikinci sayıyı giriniz  \"\u001b[0m\u001b[1;33m)\u001b[0m\u001b[1;33m)\u001b[0m\u001b[1;33m\u001b[0m\u001b[1;33m\u001b[0m\u001b[0m\n\u001b[0;32m      8\u001b[0m \u001b[0mislem\u001b[0m \u001b[1;33m=\u001b[0m \u001b[0minput\u001b[0m\u001b[1;33m(\u001b[0m\u001b[1;34m\"isleminizi seciniz  \"\u001b[0m\u001b[1;33m)\u001b[0m\u001b[1;33m\u001b[0m\u001b[1;33m\u001b[0m\u001b[0m\n",
      "\u001b[1;31mValueError\u001b[0m: invalid literal for int() with base 10: 'atıl'"
     ]
    }
   ],
   "source": [
    "def hesapla(a,b,islem):\n",
    "    if islem==\"+\":\n",
    "        return(str(a)+ \" + \"+str(b)+\" = \" + str(a+b))\n",
    "    elif islem ==\"-\":\n",
    "        return(str(a)+ \" - \"+str(b)+\" = \" + str(a-b))\n",
    "a = int(input(\"ilk sayıyı giriniz  \"))\n",
    "b = int(input(\"ikinci sayıyı giriniz  \"))\n",
    "islem = input(\"isleminizi seciniz  \")\n",
    "hesapla(a,b,islem)"
   ]
  },
  {
   "cell_type": "code",
   "execution_count": null,
   "metadata": {},
   "outputs": [
    {
     "name": "stdout",
     "output_type": "stream",
     "text": [
      "ilk sayıyı giriniz  10\n",
      "ikinci sayıyı giriniz  fdisf\n",
      "lütfen sayıları düzgün giriniz\n",
      "ilk sayıyı giriniz  10\n",
      "ikinci sayıyı giriniz  20\n",
      "isleminizi seciniz  +\n",
      "10 + 20 = 30\n",
      "lütfen sayıları düzgün giriniz\n",
      "lütfen sayıları düzgün giriniz\n",
      "lütfen sayıları düzgün giriniz\n",
      "lütfen sayıları düzgün giriniz\n"
     ]
    }
   ],
   "source": [
    "def hesapla(a,b,islem):\n",
    "    if islem not in \"+-*/\":\n",
    "        return \"lütfen şu işlemlerden birini seçiniz : + - / *\" \n",
    "    if islem==\"+\":\n",
    "        return(str(a)+ \" + \"+str(b)+\" = \" + str(a+b))\n",
    "    elif islem ==\"-\":\n",
    "        return(str(a)+ \" - \"+str(b)+\" = \" + str(a-b))\n",
    "while True:\n",
    "    # error handling\n",
    "    try:\n",
    "        a = int(input(\"ilk sayıyı giriniz  \"))\n",
    "        b = int(input(\"ikinci sayıyı giriniz  \"))\n",
    "        islem = input(\"isleminizi seciniz  \")\n",
    "        print(hesapla(a,b,islem))\n",
    "    except:\n",
    "        print(\"lütfen sayıları düzgün giriniz\")\n",
    "    "
   ]
  },
  {
   "cell_type": "code",
   "execution_count": null,
   "metadata": {},
   "outputs": [],
   "source": []
  }
 ],
 "metadata": {
  "kernelspec": {
   "display_name": "Python 3",
   "language": "python",
   "name": "python3"
  },
  "language_info": {
   "codemirror_mode": {
    "name": "ipython",
    "version": 3
   },
   "file_extension": ".py",
   "mimetype": "text/x-python",
   "name": "python",
   "nbconvert_exporter": "python",
   "pygments_lexer": "ipython3",
   "version": "3.8.5"
  }
 },
 "nbformat": 4,
 "nbformat_minor": 4
}
